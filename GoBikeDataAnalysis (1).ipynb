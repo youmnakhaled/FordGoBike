{
 "cells": [
  {
   "cell_type": "markdown",
   "metadata": {},
   "source": [
    "# Go Bike Database Analysis\n",
    "## by Youmna Khaled\n",
    "\n",
    "## Preliminary Wrangling\n",
    "\n",
    "> I will be working on analysing the dataset for ford bikes that containes data related to the trip details , that include the customer details, his type and the trip duration info. All trips that are started in Feb 2019"
   ]
  },
  {
   "cell_type": "code",
   "execution_count": 328,
   "metadata": {},
   "outputs": [],
   "source": [
    "# import all packages and set plots to be embedded inline\n",
    "import numpy as np\n",
    "import pandas as pd\n",
    "import matplotlib.pyplot as plt\n",
    "import seaborn as sb\n",
    "\n",
    "%matplotlib inline"
   ]
  },
  {
   "cell_type": "markdown",
   "metadata": {},
   "source": [
    "> Load in your dataset and describe its properties through the questions below.\n",
    "Try and motivate your exploration goals through this section."
   ]
  },
  {
   "cell_type": "code",
   "execution_count": 329,
   "metadata": {},
   "outputs": [
    {
     "data": {
      "text/plain": [
       "(183412, 16)"
      ]
     },
     "execution_count": 329,
     "metadata": {},
     "output_type": "execute_result"
    }
   ],
   "source": [
    "df = pd.read_csv('201902-fordgobike-tripdata.csv')\n",
    "df.shape"
   ]
  },
  {
   "cell_type": "code",
   "execution_count": 330,
   "metadata": {},
   "outputs": [
    {
     "data": {
      "text/html": [
       "<div>\n",
       "<style scoped>\n",
       "    .dataframe tbody tr th:only-of-type {\n",
       "        vertical-align: middle;\n",
       "    }\n",
       "\n",
       "    .dataframe tbody tr th {\n",
       "        vertical-align: top;\n",
       "    }\n",
       "\n",
       "    .dataframe thead th {\n",
       "        text-align: right;\n",
       "    }\n",
       "</style>\n",
       "<table border=\"1\" class=\"dataframe\">\n",
       "  <thead>\n",
       "    <tr style=\"text-align: right;\">\n",
       "      <th></th>\n",
       "      <th>duration_sec</th>\n",
       "      <th>start_time</th>\n",
       "      <th>end_time</th>\n",
       "      <th>start_station_id</th>\n",
       "      <th>start_station_name</th>\n",
       "      <th>start_station_latitude</th>\n",
       "      <th>start_station_longitude</th>\n",
       "      <th>end_station_id</th>\n",
       "      <th>end_station_name</th>\n",
       "      <th>end_station_latitude</th>\n",
       "      <th>end_station_longitude</th>\n",
       "      <th>bike_id</th>\n",
       "      <th>user_type</th>\n",
       "      <th>member_birth_year</th>\n",
       "      <th>member_gender</th>\n",
       "      <th>bike_share_for_all_trip</th>\n",
       "    </tr>\n",
       "  </thead>\n",
       "  <tbody>\n",
       "    <tr>\n",
       "      <th>0</th>\n",
       "      <td>52185</td>\n",
       "      <td>2019-02-28 17:32:10.1450</td>\n",
       "      <td>2019-03-01 08:01:55.9750</td>\n",
       "      <td>21.0</td>\n",
       "      <td>Montgomery St BART Station (Market St at 2nd St)</td>\n",
       "      <td>37.789625</td>\n",
       "      <td>-122.400811</td>\n",
       "      <td>13.0</td>\n",
       "      <td>Commercial St at Montgomery St</td>\n",
       "      <td>37.794231</td>\n",
       "      <td>-122.402923</td>\n",
       "      <td>4902</td>\n",
       "      <td>Customer</td>\n",
       "      <td>1984.0</td>\n",
       "      <td>Male</td>\n",
       "      <td>No</td>\n",
       "    </tr>\n",
       "    <tr>\n",
       "      <th>1</th>\n",
       "      <td>42521</td>\n",
       "      <td>2019-02-28 18:53:21.7890</td>\n",
       "      <td>2019-03-01 06:42:03.0560</td>\n",
       "      <td>23.0</td>\n",
       "      <td>The Embarcadero at Steuart St</td>\n",
       "      <td>37.791464</td>\n",
       "      <td>-122.391034</td>\n",
       "      <td>81.0</td>\n",
       "      <td>Berry St at 4th St</td>\n",
       "      <td>37.775880</td>\n",
       "      <td>-122.393170</td>\n",
       "      <td>2535</td>\n",
       "      <td>Customer</td>\n",
       "      <td>NaN</td>\n",
       "      <td>NaN</td>\n",
       "      <td>No</td>\n",
       "    </tr>\n",
       "    <tr>\n",
       "      <th>2</th>\n",
       "      <td>61854</td>\n",
       "      <td>2019-02-28 12:13:13.2180</td>\n",
       "      <td>2019-03-01 05:24:08.1460</td>\n",
       "      <td>86.0</td>\n",
       "      <td>Market St at Dolores St</td>\n",
       "      <td>37.769305</td>\n",
       "      <td>-122.426826</td>\n",
       "      <td>3.0</td>\n",
       "      <td>Powell St BART Station (Market St at 4th St)</td>\n",
       "      <td>37.786375</td>\n",
       "      <td>-122.404904</td>\n",
       "      <td>5905</td>\n",
       "      <td>Customer</td>\n",
       "      <td>1972.0</td>\n",
       "      <td>Male</td>\n",
       "      <td>No</td>\n",
       "    </tr>\n",
       "    <tr>\n",
       "      <th>3</th>\n",
       "      <td>36490</td>\n",
       "      <td>2019-02-28 17:54:26.0100</td>\n",
       "      <td>2019-03-01 04:02:36.8420</td>\n",
       "      <td>375.0</td>\n",
       "      <td>Grove St at Masonic Ave</td>\n",
       "      <td>37.774836</td>\n",
       "      <td>-122.446546</td>\n",
       "      <td>70.0</td>\n",
       "      <td>Central Ave at Fell St</td>\n",
       "      <td>37.773311</td>\n",
       "      <td>-122.444293</td>\n",
       "      <td>6638</td>\n",
       "      <td>Subscriber</td>\n",
       "      <td>1989.0</td>\n",
       "      <td>Other</td>\n",
       "      <td>No</td>\n",
       "    </tr>\n",
       "    <tr>\n",
       "      <th>4</th>\n",
       "      <td>1585</td>\n",
       "      <td>2019-02-28 23:54:18.5490</td>\n",
       "      <td>2019-03-01 00:20:44.0740</td>\n",
       "      <td>7.0</td>\n",
       "      <td>Frank H Ogawa Plaza</td>\n",
       "      <td>37.804562</td>\n",
       "      <td>-122.271738</td>\n",
       "      <td>222.0</td>\n",
       "      <td>10th Ave at E 15th St</td>\n",
       "      <td>37.792714</td>\n",
       "      <td>-122.248780</td>\n",
       "      <td>4898</td>\n",
       "      <td>Subscriber</td>\n",
       "      <td>1974.0</td>\n",
       "      <td>Male</td>\n",
       "      <td>Yes</td>\n",
       "    </tr>\n",
       "    <tr>\n",
       "      <th>5</th>\n",
       "      <td>1793</td>\n",
       "      <td>2019-02-28 23:49:58.6320</td>\n",
       "      <td>2019-03-01 00:19:51.7600</td>\n",
       "      <td>93.0</td>\n",
       "      <td>4th St at Mission Bay Blvd S</td>\n",
       "      <td>37.770407</td>\n",
       "      <td>-122.391198</td>\n",
       "      <td>323.0</td>\n",
       "      <td>Broadway at Kearny</td>\n",
       "      <td>37.798014</td>\n",
       "      <td>-122.405950</td>\n",
       "      <td>5200</td>\n",
       "      <td>Subscriber</td>\n",
       "      <td>1959.0</td>\n",
       "      <td>Male</td>\n",
       "      <td>No</td>\n",
       "    </tr>\n",
       "    <tr>\n",
       "      <th>6</th>\n",
       "      <td>1147</td>\n",
       "      <td>2019-02-28 23:55:35.1040</td>\n",
       "      <td>2019-03-01 00:14:42.5880</td>\n",
       "      <td>300.0</td>\n",
       "      <td>Palm St at Willow St</td>\n",
       "      <td>37.317298</td>\n",
       "      <td>-121.884995</td>\n",
       "      <td>312.0</td>\n",
       "      <td>San Jose Diridon Station</td>\n",
       "      <td>37.329732</td>\n",
       "      <td>-121.901782</td>\n",
       "      <td>3803</td>\n",
       "      <td>Subscriber</td>\n",
       "      <td>1983.0</td>\n",
       "      <td>Female</td>\n",
       "      <td>No</td>\n",
       "    </tr>\n",
       "    <tr>\n",
       "      <th>7</th>\n",
       "      <td>1615</td>\n",
       "      <td>2019-02-28 23:41:06.7660</td>\n",
       "      <td>2019-03-01 00:08:02.7560</td>\n",
       "      <td>10.0</td>\n",
       "      <td>Washington St at Kearny St</td>\n",
       "      <td>37.795393</td>\n",
       "      <td>-122.404770</td>\n",
       "      <td>127.0</td>\n",
       "      <td>Valencia St at 21st St</td>\n",
       "      <td>37.756708</td>\n",
       "      <td>-122.421025</td>\n",
       "      <td>6329</td>\n",
       "      <td>Subscriber</td>\n",
       "      <td>1989.0</td>\n",
       "      <td>Male</td>\n",
       "      <td>No</td>\n",
       "    </tr>\n",
       "    <tr>\n",
       "      <th>8</th>\n",
       "      <td>1570</td>\n",
       "      <td>2019-02-28 23:41:48.7900</td>\n",
       "      <td>2019-03-01 00:07:59.7150</td>\n",
       "      <td>10.0</td>\n",
       "      <td>Washington St at Kearny St</td>\n",
       "      <td>37.795393</td>\n",
       "      <td>-122.404770</td>\n",
       "      <td>127.0</td>\n",
       "      <td>Valencia St at 21st St</td>\n",
       "      <td>37.756708</td>\n",
       "      <td>-122.421025</td>\n",
       "      <td>6548</td>\n",
       "      <td>Subscriber</td>\n",
       "      <td>1988.0</td>\n",
       "      <td>Other</td>\n",
       "      <td>No</td>\n",
       "    </tr>\n",
       "    <tr>\n",
       "      <th>9</th>\n",
       "      <td>1049</td>\n",
       "      <td>2019-02-28 23:49:47.6990</td>\n",
       "      <td>2019-03-01 00:07:17.0250</td>\n",
       "      <td>19.0</td>\n",
       "      <td>Post St at Kearny St</td>\n",
       "      <td>37.788975</td>\n",
       "      <td>-122.403452</td>\n",
       "      <td>121.0</td>\n",
       "      <td>Mission Playground</td>\n",
       "      <td>37.759210</td>\n",
       "      <td>-122.421339</td>\n",
       "      <td>6488</td>\n",
       "      <td>Subscriber</td>\n",
       "      <td>1992.0</td>\n",
       "      <td>Male</td>\n",
       "      <td>No</td>\n",
       "    </tr>\n",
       "    <tr>\n",
       "      <th>10</th>\n",
       "      <td>458</td>\n",
       "      <td>2019-02-28 23:57:57.2110</td>\n",
       "      <td>2019-03-01 00:05:35.4350</td>\n",
       "      <td>370.0</td>\n",
       "      <td>Jones St at Post St</td>\n",
       "      <td>37.787327</td>\n",
       "      <td>-122.413278</td>\n",
       "      <td>43.0</td>\n",
       "      <td>San Francisco Public Library (Grove St at Hyde...</td>\n",
       "      <td>37.778768</td>\n",
       "      <td>-122.415929</td>\n",
       "      <td>5318</td>\n",
       "      <td>Subscriber</td>\n",
       "      <td>1996.0</td>\n",
       "      <td>Female</td>\n",
       "      <td>Yes</td>\n",
       "    </tr>\n",
       "    <tr>\n",
       "      <th>11</th>\n",
       "      <td>506</td>\n",
       "      <td>2019-02-28 23:56:55.5400</td>\n",
       "      <td>2019-03-01 00:05:21.7330</td>\n",
       "      <td>44.0</td>\n",
       "      <td>Civic Center/UN Plaza BART Station (Market St ...</td>\n",
       "      <td>37.781074</td>\n",
       "      <td>-122.411738</td>\n",
       "      <td>343.0</td>\n",
       "      <td>Bryant St at 2nd St</td>\n",
       "      <td>37.783172</td>\n",
       "      <td>-122.393572</td>\n",
       "      <td>5848</td>\n",
       "      <td>Subscriber</td>\n",
       "      <td>1993.0</td>\n",
       "      <td>Male</td>\n",
       "      <td>No</td>\n",
       "    </tr>\n",
       "    <tr>\n",
       "      <th>12</th>\n",
       "      <td>1176</td>\n",
       "      <td>2019-02-28 23:45:12.6510</td>\n",
       "      <td>2019-03-01 00:04:49.1840</td>\n",
       "      <td>127.0</td>\n",
       "      <td>Valencia St at 21st St</td>\n",
       "      <td>37.756708</td>\n",
       "      <td>-122.421025</td>\n",
       "      <td>323.0</td>\n",
       "      <td>Broadway at Kearny</td>\n",
       "      <td>37.798014</td>\n",
       "      <td>-122.405950</td>\n",
       "      <td>5328</td>\n",
       "      <td>Customer</td>\n",
       "      <td>1990.0</td>\n",
       "      <td>Male</td>\n",
       "      <td>No</td>\n",
       "    </tr>\n",
       "    <tr>\n",
       "      <th>13</th>\n",
       "      <td>915</td>\n",
       "      <td>2019-02-28 23:49:06.0620</td>\n",
       "      <td>2019-03-01 00:04:21.8670</td>\n",
       "      <td>252.0</td>\n",
       "      <td>Channing Way at Shattuck Ave</td>\n",
       "      <td>37.865847</td>\n",
       "      <td>-122.267443</td>\n",
       "      <td>244.0</td>\n",
       "      <td>Shattuck Ave at Hearst Ave</td>\n",
       "      <td>37.873676</td>\n",
       "      <td>-122.268487</td>\n",
       "      <td>5101</td>\n",
       "      <td>Subscriber</td>\n",
       "      <td>NaN</td>\n",
       "      <td>NaN</td>\n",
       "      <td>No</td>\n",
       "    </tr>\n",
       "    <tr>\n",
       "      <th>14</th>\n",
       "      <td>395</td>\n",
       "      <td>2019-02-28 23:56:26.8480</td>\n",
       "      <td>2019-03-01 00:03:01.9470</td>\n",
       "      <td>243.0</td>\n",
       "      <td>Bancroft Way at College Ave</td>\n",
       "      <td>37.869360</td>\n",
       "      <td>-122.254337</td>\n",
       "      <td>252.0</td>\n",
       "      <td>Channing Way at Shattuck Ave</td>\n",
       "      <td>37.865847</td>\n",
       "      <td>-122.267443</td>\n",
       "      <td>4786</td>\n",
       "      <td>Subscriber</td>\n",
       "      <td>1988.0</td>\n",
       "      <td>Male</td>\n",
       "      <td>No</td>\n",
       "    </tr>\n",
       "    <tr>\n",
       "      <th>15</th>\n",
       "      <td>208</td>\n",
       "      <td>2019-02-28 23:59:18.5480</td>\n",
       "      <td>2019-03-01 00:02:47.2280</td>\n",
       "      <td>349.0</td>\n",
       "      <td>Howard St at Mary St</td>\n",
       "      <td>37.781010</td>\n",
       "      <td>-122.405666</td>\n",
       "      <td>60.0</td>\n",
       "      <td>8th St at Ringold St</td>\n",
       "      <td>37.774520</td>\n",
       "      <td>-122.409449</td>\n",
       "      <td>6361</td>\n",
       "      <td>Subscriber</td>\n",
       "      <td>1993.0</td>\n",
       "      <td>Male</td>\n",
       "      <td>Yes</td>\n",
       "    </tr>\n",
       "    <tr>\n",
       "      <th>16</th>\n",
       "      <td>548</td>\n",
       "      <td>2019-02-28 23:50:41.6070</td>\n",
       "      <td>2019-02-28 23:59:49.9530</td>\n",
       "      <td>131.0</td>\n",
       "      <td>22nd St at Dolores St</td>\n",
       "      <td>37.755000</td>\n",
       "      <td>-122.425728</td>\n",
       "      <td>71.0</td>\n",
       "      <td>Broderick St at Oak St</td>\n",
       "      <td>37.773063</td>\n",
       "      <td>-122.439078</td>\n",
       "      <td>6572</td>\n",
       "      <td>Subscriber</td>\n",
       "      <td>1981.0</td>\n",
       "      <td>Male</td>\n",
       "      <td>No</td>\n",
       "    </tr>\n",
       "    <tr>\n",
       "      <th>17</th>\n",
       "      <td>674</td>\n",
       "      <td>2019-02-28 23:48:25.0950</td>\n",
       "      <td>2019-02-28 23:59:40.0920</td>\n",
       "      <td>74.0</td>\n",
       "      <td>Laguna St at Hayes St</td>\n",
       "      <td>37.776435</td>\n",
       "      <td>-122.426244</td>\n",
       "      <td>336.0</td>\n",
       "      <td>Potrero Ave and Mariposa St</td>\n",
       "      <td>37.763281</td>\n",
       "      <td>-122.407377</td>\n",
       "      <td>5343</td>\n",
       "      <td>Subscriber</td>\n",
       "      <td>1975.0</td>\n",
       "      <td>Male</td>\n",
       "      <td>No</td>\n",
       "    </tr>\n",
       "    <tr>\n",
       "      <th>18</th>\n",
       "      <td>557</td>\n",
       "      <td>2019-02-28 23:49:01.8510</td>\n",
       "      <td>2019-02-28 23:58:19.8090</td>\n",
       "      <td>321.0</td>\n",
       "      <td>5th St at Folsom</td>\n",
       "      <td>37.780146</td>\n",
       "      <td>-122.403071</td>\n",
       "      <td>75.0</td>\n",
       "      <td>Market St at Franklin St</td>\n",
       "      <td>37.773793</td>\n",
       "      <td>-122.421239</td>\n",
       "      <td>5854</td>\n",
       "      <td>Subscriber</td>\n",
       "      <td>1990.0</td>\n",
       "      <td>Male</td>\n",
       "      <td>No</td>\n",
       "    </tr>\n",
       "    <tr>\n",
       "      <th>19</th>\n",
       "      <td>874</td>\n",
       "      <td>2019-02-28 23:43:05.1830</td>\n",
       "      <td>2019-02-28 23:57:39.7960</td>\n",
       "      <td>180.0</td>\n",
       "      <td>Telegraph Ave at 23rd St</td>\n",
       "      <td>37.812678</td>\n",
       "      <td>-122.268773</td>\n",
       "      <td>180.0</td>\n",
       "      <td>Telegraph Ave at 23rd St</td>\n",
       "      <td>37.812678</td>\n",
       "      <td>-122.268773</td>\n",
       "      <td>5629</td>\n",
       "      <td>Customer</td>\n",
       "      <td>1978.0</td>\n",
       "      <td>Male</td>\n",
       "      <td>No</td>\n",
       "    </tr>\n",
       "    <tr>\n",
       "      <th>20</th>\n",
       "      <td>417</td>\n",
       "      <td>2019-02-28 23:50:38.2390</td>\n",
       "      <td>2019-02-28 23:57:35.8520</td>\n",
       "      <td>72.0</td>\n",
       "      <td>Page St at Scott St</td>\n",
       "      <td>37.772406</td>\n",
       "      <td>-122.435650</td>\n",
       "      <td>107.0</td>\n",
       "      <td>17th St at Dolores St</td>\n",
       "      <td>37.763015</td>\n",
       "      <td>-122.426497</td>\n",
       "      <td>4999</td>\n",
       "      <td>Subscriber</td>\n",
       "      <td>1983.0</td>\n",
       "      <td>Male</td>\n",
       "      <td>No</td>\n",
       "    </tr>\n",
       "    <tr>\n",
       "      <th>21</th>\n",
       "      <td>414</td>\n",
       "      <td>2019-02-28 23:50:26.8790</td>\n",
       "      <td>2019-02-28 23:57:21.1300</td>\n",
       "      <td>163.0</td>\n",
       "      <td>Lake Merritt BART Station</td>\n",
       "      <td>37.797320</td>\n",
       "      <td>-122.265320</td>\n",
       "      <td>221.0</td>\n",
       "      <td>6th Ave at E 12th St (Temporary Location)</td>\n",
       "      <td>37.794396</td>\n",
       "      <td>-122.253842</td>\n",
       "      <td>6007</td>\n",
       "      <td>Subscriber</td>\n",
       "      <td>1984.0</td>\n",
       "      <td>Male</td>\n",
       "      <td>Yes</td>\n",
       "    </tr>\n",
       "    <tr>\n",
       "      <th>22</th>\n",
       "      <td>743</td>\n",
       "      <td>2019-02-28 23:44:56.4390</td>\n",
       "      <td>2019-02-28 23:57:20.2120</td>\n",
       "      <td>370.0</td>\n",
       "      <td>Jones St at Post St</td>\n",
       "      <td>37.787327</td>\n",
       "      <td>-122.413278</td>\n",
       "      <td>52.0</td>\n",
       "      <td>McAllister St at Baker St</td>\n",
       "      <td>37.777416</td>\n",
       "      <td>-122.441838</td>\n",
       "      <td>5479</td>\n",
       "      <td>Subscriber</td>\n",
       "      <td>1991.0</td>\n",
       "      <td>Female</td>\n",
       "      <td>No</td>\n",
       "    </tr>\n",
       "    <tr>\n",
       "      <th>23</th>\n",
       "      <td>367</td>\n",
       "      <td>2019-02-28 23:51:06.0140</td>\n",
       "      <td>2019-02-28 23:57:13.3120</td>\n",
       "      <td>243.0</td>\n",
       "      <td>Bancroft Way at College Ave</td>\n",
       "      <td>37.869360</td>\n",
       "      <td>-122.254337</td>\n",
       "      <td>269.0</td>\n",
       "      <td>Telegraph Ave at Carleton St</td>\n",
       "      <td>37.862320</td>\n",
       "      <td>-122.258801</td>\n",
       "      <td>1804</td>\n",
       "      <td>Subscriber</td>\n",
       "      <td>1997.0</td>\n",
       "      <td>Female</td>\n",
       "      <td>No</td>\n",
       "    </tr>\n",
       "    <tr>\n",
       "      <th>24</th>\n",
       "      <td>252</td>\n",
       "      <td>2019-02-28 23:52:51.1640</td>\n",
       "      <td>2019-02-28 23:57:03.9760</td>\n",
       "      <td>190.0</td>\n",
       "      <td>West St at 40th St</td>\n",
       "      <td>37.830223</td>\n",
       "      <td>-122.270950</td>\n",
       "      <td>189.0</td>\n",
       "      <td>Genoa St at 55th St</td>\n",
       "      <td>37.839649</td>\n",
       "      <td>-122.271756</td>\n",
       "      <td>5678</td>\n",
       "      <td>Subscriber</td>\n",
       "      <td>1975.0</td>\n",
       "      <td>Male</td>\n",
       "      <td>No</td>\n",
       "    </tr>\n",
       "    <tr>\n",
       "      <th>25</th>\n",
       "      <td>360</td>\n",
       "      <td>2019-02-28 23:50:31.4310</td>\n",
       "      <td>2019-02-28 23:56:31.8910</td>\n",
       "      <td>163.0</td>\n",
       "      <td>Lake Merritt BART Station</td>\n",
       "      <td>37.797320</td>\n",
       "      <td>-122.265320</td>\n",
       "      <td>196.0</td>\n",
       "      <td>Grand Ave at Perkins St</td>\n",
       "      <td>37.808894</td>\n",
       "      <td>-122.256460</td>\n",
       "      <td>6240</td>\n",
       "      <td>Subscriber</td>\n",
       "      <td>1986.0</td>\n",
       "      <td>Male</td>\n",
       "      <td>No</td>\n",
       "    </tr>\n",
       "    <tr>\n",
       "      <th>26</th>\n",
       "      <td>385</td>\n",
       "      <td>2019-02-28 23:49:24.3990</td>\n",
       "      <td>2019-02-28 23:55:50.2840</td>\n",
       "      <td>6.0</td>\n",
       "      <td>The Embarcadero at Sansome St</td>\n",
       "      <td>37.804770</td>\n",
       "      <td>-122.403234</td>\n",
       "      <td>15.0</td>\n",
       "      <td>San Francisco Ferry Building (Harry Bridges Pl...</td>\n",
       "      <td>37.795392</td>\n",
       "      <td>-122.394203</td>\n",
       "      <td>6531</td>\n",
       "      <td>Customer</td>\n",
       "      <td>2000.0</td>\n",
       "      <td>Male</td>\n",
       "      <td>No</td>\n",
       "    </tr>\n",
       "    <tr>\n",
       "      <th>27</th>\n",
       "      <td>408</td>\n",
       "      <td>2019-02-28 23:48:08.2820</td>\n",
       "      <td>2019-02-28 23:54:56.9300</td>\n",
       "      <td>78.0</td>\n",
       "      <td>Folsom St at 9th St</td>\n",
       "      <td>37.773717</td>\n",
       "      <td>-122.411647</td>\n",
       "      <td>78.0</td>\n",
       "      <td>Folsom St at 9th St</td>\n",
       "      <td>37.773717</td>\n",
       "      <td>-122.411647</td>\n",
       "      <td>5410</td>\n",
       "      <td>Subscriber</td>\n",
       "      <td>1982.0</td>\n",
       "      <td>Male</td>\n",
       "      <td>No</td>\n",
       "    </tr>\n",
       "    <tr>\n",
       "      <th>28</th>\n",
       "      <td>650</td>\n",
       "      <td>2019-02-28 23:43:27.5030</td>\n",
       "      <td>2019-02-28 23:54:18.4510</td>\n",
       "      <td>258.0</td>\n",
       "      <td>University Ave at Oxford St</td>\n",
       "      <td>37.872355</td>\n",
       "      <td>-122.266447</td>\n",
       "      <td>263.0</td>\n",
       "      <td>Channing Way at San Pablo Ave</td>\n",
       "      <td>37.862827</td>\n",
       "      <td>-122.290230</td>\n",
       "      <td>4784</td>\n",
       "      <td>Customer</td>\n",
       "      <td>NaN</td>\n",
       "      <td>NaN</td>\n",
       "      <td>No</td>\n",
       "    </tr>\n",
       "    <tr>\n",
       "      <th>29</th>\n",
       "      <td>629</td>\n",
       "      <td>2019-02-28 23:43:48.6580</td>\n",
       "      <td>2019-02-28 23:54:18.2540</td>\n",
       "      <td>258.0</td>\n",
       "      <td>University Ave at Oxford St</td>\n",
       "      <td>37.872355</td>\n",
       "      <td>-122.266447</td>\n",
       "      <td>263.0</td>\n",
       "      <td>Channing Way at San Pablo Ave</td>\n",
       "      <td>37.862827</td>\n",
       "      <td>-122.290230</td>\n",
       "      <td>363</td>\n",
       "      <td>Subscriber</td>\n",
       "      <td>1995.0</td>\n",
       "      <td>Male</td>\n",
       "      <td>No</td>\n",
       "    </tr>\n",
       "    <tr>\n",
       "      <th>...</th>\n",
       "      <td>...</td>\n",
       "      <td>...</td>\n",
       "      <td>...</td>\n",
       "      <td>...</td>\n",
       "      <td>...</td>\n",
       "      <td>...</td>\n",
       "      <td>...</td>\n",
       "      <td>...</td>\n",
       "      <td>...</td>\n",
       "      <td>...</td>\n",
       "      <td>...</td>\n",
       "      <td>...</td>\n",
       "      <td>...</td>\n",
       "      <td>...</td>\n",
       "      <td>...</td>\n",
       "      <td>...</td>\n",
       "    </tr>\n",
       "    <tr>\n",
       "      <th>70</th>\n",
       "      <td>217</td>\n",
       "      <td>2019-02-28 23:25:59.6640</td>\n",
       "      <td>2019-02-28 23:29:36.9080</td>\n",
       "      <td>239.0</td>\n",
       "      <td>Bancroft Way at Telegraph Ave</td>\n",
       "      <td>37.868813</td>\n",
       "      <td>-122.258764</td>\n",
       "      <td>266.0</td>\n",
       "      <td>Parker St at Fulton St</td>\n",
       "      <td>37.862464</td>\n",
       "      <td>-122.264791</td>\n",
       "      <td>2647</td>\n",
       "      <td>Subscriber</td>\n",
       "      <td>1997.0</td>\n",
       "      <td>Male</td>\n",
       "      <td>No</td>\n",
       "    </tr>\n",
       "    <tr>\n",
       "      <th>71</th>\n",
       "      <td>303</td>\n",
       "      <td>2019-02-28 23:24:07.7110</td>\n",
       "      <td>2019-02-28 23:29:11.6190</td>\n",
       "      <td>182.0</td>\n",
       "      <td>19th Street BART Station</td>\n",
       "      <td>37.809013</td>\n",
       "      <td>-122.268247</td>\n",
       "      <td>197.0</td>\n",
       "      <td>El Embarcadero at Grand Ave</td>\n",
       "      <td>37.808848</td>\n",
       "      <td>-122.249680</td>\n",
       "      <td>5883</td>\n",
       "      <td>Subscriber</td>\n",
       "      <td>1988.0</td>\n",
       "      <td>Male</td>\n",
       "      <td>No</td>\n",
       "    </tr>\n",
       "    <tr>\n",
       "      <th>72</th>\n",
       "      <td>113</td>\n",
       "      <td>2019-02-28 23:26:28.3350</td>\n",
       "      <td>2019-02-28 23:28:21.6250</td>\n",
       "      <td>163.0</td>\n",
       "      <td>Lake Merritt BART Station</td>\n",
       "      <td>37.797320</td>\n",
       "      <td>-122.265320</td>\n",
       "      <td>163.0</td>\n",
       "      <td>Lake Merritt BART Station</td>\n",
       "      <td>37.797320</td>\n",
       "      <td>-122.265320</td>\n",
       "      <td>5414</td>\n",
       "      <td>Subscriber</td>\n",
       "      <td>1975.0</td>\n",
       "      <td>Male</td>\n",
       "      <td>No</td>\n",
       "    </tr>\n",
       "    <tr>\n",
       "      <th>73</th>\n",
       "      <td>818</td>\n",
       "      <td>2019-02-28 23:14:40.3620</td>\n",
       "      <td>2019-02-28 23:28:18.9100</td>\n",
       "      <td>119.0</td>\n",
       "      <td>18th St at Noe St</td>\n",
       "      <td>37.761047</td>\n",
       "      <td>-122.432642</td>\n",
       "      <td>62.0</td>\n",
       "      <td>Victoria Manalo Draves Park</td>\n",
       "      <td>37.777791</td>\n",
       "      <td>-122.406432</td>\n",
       "      <td>5284</td>\n",
       "      <td>Customer</td>\n",
       "      <td>1980.0</td>\n",
       "      <td>Male</td>\n",
       "      <td>No</td>\n",
       "    </tr>\n",
       "    <tr>\n",
       "      <th>74</th>\n",
       "      <td>371</td>\n",
       "      <td>2019-02-28 23:21:37.8780</td>\n",
       "      <td>2019-02-28 23:27:48.9790</td>\n",
       "      <td>369.0</td>\n",
       "      <td>Hyde St at Post St</td>\n",
       "      <td>37.787349</td>\n",
       "      <td>-122.416651</td>\n",
       "      <td>369.0</td>\n",
       "      <td>Hyde St at Post St</td>\n",
       "      <td>37.787349</td>\n",
       "      <td>-122.416651</td>\n",
       "      <td>6404</td>\n",
       "      <td>Subscriber</td>\n",
       "      <td>1990.0</td>\n",
       "      <td>Male</td>\n",
       "      <td>No</td>\n",
       "    </tr>\n",
       "    <tr>\n",
       "      <th>75</th>\n",
       "      <td>3001</td>\n",
       "      <td>2019-02-28 22:37:41.4700</td>\n",
       "      <td>2019-02-28 23:27:43.3630</td>\n",
       "      <td>159.0</td>\n",
       "      <td>24th St at Market St</td>\n",
       "      <td>37.816060</td>\n",
       "      <td>-122.278244</td>\n",
       "      <td>159.0</td>\n",
       "      <td>24th St at Market St</td>\n",
       "      <td>37.816060</td>\n",
       "      <td>-122.278244</td>\n",
       "      <td>5471</td>\n",
       "      <td>Subscriber</td>\n",
       "      <td>1998.0</td>\n",
       "      <td>Female</td>\n",
       "      <td>Yes</td>\n",
       "    </tr>\n",
       "    <tr>\n",
       "      <th>76</th>\n",
       "      <td>2973</td>\n",
       "      <td>2019-02-28 22:38:07.4950</td>\n",
       "      <td>2019-02-28 23:27:40.8250</td>\n",
       "      <td>159.0</td>\n",
       "      <td>24th St at Market St</td>\n",
       "      <td>37.816060</td>\n",
       "      <td>-122.278244</td>\n",
       "      <td>159.0</td>\n",
       "      <td>24th St at Market St</td>\n",
       "      <td>37.816060</td>\n",
       "      <td>-122.278244</td>\n",
       "      <td>5702</td>\n",
       "      <td>Subscriber</td>\n",
       "      <td>1993.0</td>\n",
       "      <td>Female</td>\n",
       "      <td>Yes</td>\n",
       "    </tr>\n",
       "    <tr>\n",
       "      <th>77</th>\n",
       "      <td>167</td>\n",
       "      <td>2019-02-28 23:24:23.4010</td>\n",
       "      <td>2019-02-28 23:27:10.5380</td>\n",
       "      <td>254.0</td>\n",
       "      <td>Vine St at Shattuck Ave</td>\n",
       "      <td>37.880222</td>\n",
       "      <td>-122.269592</td>\n",
       "      <td>244.0</td>\n",
       "      <td>Shattuck Ave at Hearst Ave</td>\n",
       "      <td>37.873676</td>\n",
       "      <td>-122.268487</td>\n",
       "      <td>5689</td>\n",
       "      <td>Subscriber</td>\n",
       "      <td>1992.0</td>\n",
       "      <td>Male</td>\n",
       "      <td>Yes</td>\n",
       "    </tr>\n",
       "    <tr>\n",
       "      <th>78</th>\n",
       "      <td>355</td>\n",
       "      <td>2019-02-28 23:18:55.6910</td>\n",
       "      <td>2019-02-28 23:24:51.5630</td>\n",
       "      <td>30.0</td>\n",
       "      <td>San Francisco Caltrain (Townsend St at 4th St)</td>\n",
       "      <td>37.776598</td>\n",
       "      <td>-122.395282</td>\n",
       "      <td>62.0</td>\n",
       "      <td>Victoria Manalo Draves Park</td>\n",
       "      <td>37.777791</td>\n",
       "      <td>-122.406432</td>\n",
       "      <td>6102</td>\n",
       "      <td>Subscriber</td>\n",
       "      <td>1983.0</td>\n",
       "      <td>Male</td>\n",
       "      <td>No</td>\n",
       "    </tr>\n",
       "    <tr>\n",
       "      <th>79</th>\n",
       "      <td>1427</td>\n",
       "      <td>2019-02-28 23:00:50.5190</td>\n",
       "      <td>2019-02-28 23:24:38.1720</td>\n",
       "      <td>53.0</td>\n",
       "      <td>Grove St at Divisadero</td>\n",
       "      <td>37.775946</td>\n",
       "      <td>-122.437777</td>\n",
       "      <td>369.0</td>\n",
       "      <td>Hyde St at Post St</td>\n",
       "      <td>37.787349</td>\n",
       "      <td>-122.416651</td>\n",
       "      <td>6597</td>\n",
       "      <td>Subscriber</td>\n",
       "      <td>1994.0</td>\n",
       "      <td>Male</td>\n",
       "      <td>No</td>\n",
       "    </tr>\n",
       "    <tr>\n",
       "      <th>80</th>\n",
       "      <td>266</td>\n",
       "      <td>2019-02-28 23:16:14.4490</td>\n",
       "      <td>2019-02-28 23:20:41.3530</td>\n",
       "      <td>321.0</td>\n",
       "      <td>5th St at Folsom</td>\n",
       "      <td>37.780146</td>\n",
       "      <td>-122.403071</td>\n",
       "      <td>60.0</td>\n",
       "      <td>8th St at Ringold St</td>\n",
       "      <td>37.774520</td>\n",
       "      <td>-122.409449</td>\n",
       "      <td>5091</td>\n",
       "      <td>Subscriber</td>\n",
       "      <td>1992.0</td>\n",
       "      <td>Male</td>\n",
       "      <td>No</td>\n",
       "    </tr>\n",
       "    <tr>\n",
       "      <th>81</th>\n",
       "      <td>294</td>\n",
       "      <td>2019-02-28 23:15:21.1130</td>\n",
       "      <td>2019-02-28 23:20:15.7980</td>\n",
       "      <td>356.0</td>\n",
       "      <td>Valencia St at Clinton Park</td>\n",
       "      <td>37.769188</td>\n",
       "      <td>-122.422285</td>\n",
       "      <td>58.0</td>\n",
       "      <td>Market St at 10th St</td>\n",
       "      <td>37.776619</td>\n",
       "      <td>-122.417385</td>\n",
       "      <td>5938</td>\n",
       "      <td>Subscriber</td>\n",
       "      <td>1992.0</td>\n",
       "      <td>Female</td>\n",
       "      <td>No</td>\n",
       "    </tr>\n",
       "    <tr>\n",
       "      <th>82</th>\n",
       "      <td>137</td>\n",
       "      <td>2019-02-28 23:17:17.9680</td>\n",
       "      <td>2019-02-28 23:19:35.8460</td>\n",
       "      <td>30.0</td>\n",
       "      <td>San Francisco Caltrain (Townsend St at 4th St)</td>\n",
       "      <td>37.776598</td>\n",
       "      <td>-122.395282</td>\n",
       "      <td>64.0</td>\n",
       "      <td>5th St at Brannan St</td>\n",
       "      <td>37.776754</td>\n",
       "      <td>-122.399018</td>\n",
       "      <td>6520</td>\n",
       "      <td>Subscriber</td>\n",
       "      <td>1990.0</td>\n",
       "      <td>Male</td>\n",
       "      <td>No</td>\n",
       "    </tr>\n",
       "    <tr>\n",
       "      <th>83</th>\n",
       "      <td>1218</td>\n",
       "      <td>2019-02-28 22:59:11.3420</td>\n",
       "      <td>2019-02-28 23:19:29.6530</td>\n",
       "      <td>324.0</td>\n",
       "      <td>Union Square (Powell St at Post St)</td>\n",
       "      <td>37.788300</td>\n",
       "      <td>-122.408531</td>\n",
       "      <td>386.0</td>\n",
       "      <td>24th St at Bartlett St</td>\n",
       "      <td>37.752105</td>\n",
       "      <td>-122.419724</td>\n",
       "      <td>5914</td>\n",
       "      <td>Subscriber</td>\n",
       "      <td>1980.0</td>\n",
       "      <td>Male</td>\n",
       "      <td>No</td>\n",
       "    </tr>\n",
       "    <tr>\n",
       "      <th>84</th>\n",
       "      <td>1087</td>\n",
       "      <td>2019-02-28 23:01:18.4060</td>\n",
       "      <td>2019-02-28 23:19:25.8690</td>\n",
       "      <td>71.0</td>\n",
       "      <td>Broderick St at Oak St</td>\n",
       "      <td>37.773063</td>\n",
       "      <td>-122.439078</td>\n",
       "      <td>145.0</td>\n",
       "      <td>29th St at Church St</td>\n",
       "      <td>37.743684</td>\n",
       "      <td>-122.426806</td>\n",
       "      <td>5332</td>\n",
       "      <td>Customer</td>\n",
       "      <td>1982.0</td>\n",
       "      <td>Male</td>\n",
       "      <td>No</td>\n",
       "    </tr>\n",
       "    <tr>\n",
       "      <th>85</th>\n",
       "      <td>73</td>\n",
       "      <td>2019-02-28 23:17:06.4830</td>\n",
       "      <td>2019-02-28 23:18:19.7110</td>\n",
       "      <td>67.0</td>\n",
       "      <td>San Francisco Caltrain Station 2  (Townsend St...</td>\n",
       "      <td>37.776639</td>\n",
       "      <td>-122.395526</td>\n",
       "      <td>80.0</td>\n",
       "      <td>Townsend St at 5th St</td>\n",
       "      <td>37.775235</td>\n",
       "      <td>-122.397437</td>\n",
       "      <td>5012</td>\n",
       "      <td>Subscriber</td>\n",
       "      <td>1995.0</td>\n",
       "      <td>Male</td>\n",
       "      <td>No</td>\n",
       "    </tr>\n",
       "    <tr>\n",
       "      <th>86</th>\n",
       "      <td>175</td>\n",
       "      <td>2019-02-28 23:15:09.9130</td>\n",
       "      <td>2019-02-28 23:18:05.7640</td>\n",
       "      <td>140.0</td>\n",
       "      <td>Cesar Chavez St at Dolores St</td>\n",
       "      <td>37.747858</td>\n",
       "      <td>-122.424986</td>\n",
       "      <td>132.0</td>\n",
       "      <td>24th St at Chattanooga St</td>\n",
       "      <td>37.751819</td>\n",
       "      <td>-122.426614</td>\n",
       "      <td>5048</td>\n",
       "      <td>Subscriber</td>\n",
       "      <td>1981.0</td>\n",
       "      <td>Male</td>\n",
       "      <td>No</td>\n",
       "    </tr>\n",
       "    <tr>\n",
       "      <th>87</th>\n",
       "      <td>2151</td>\n",
       "      <td>2019-02-28 22:42:05.2150</td>\n",
       "      <td>2019-02-28 23:17:56.9670</td>\n",
       "      <td>78.0</td>\n",
       "      <td>Folsom St at 9th St</td>\n",
       "      <td>37.773717</td>\n",
       "      <td>-122.411647</td>\n",
       "      <td>15.0</td>\n",
       "      <td>San Francisco Ferry Building (Harry Bridges Pl...</td>\n",
       "      <td>37.795392</td>\n",
       "      <td>-122.394203</td>\n",
       "      <td>5411</td>\n",
       "      <td>Subscriber</td>\n",
       "      <td>1972.0</td>\n",
       "      <td>Male</td>\n",
       "      <td>No</td>\n",
       "    </tr>\n",
       "    <tr>\n",
       "      <th>88</th>\n",
       "      <td>405</td>\n",
       "      <td>2019-02-28 23:10:51.1970</td>\n",
       "      <td>2019-02-28 23:17:36.5560</td>\n",
       "      <td>250.0</td>\n",
       "      <td>North Berkeley BART Station</td>\n",
       "      <td>37.873558</td>\n",
       "      <td>-122.283093</td>\n",
       "      <td>259.0</td>\n",
       "      <td>Addison St at Fourth St</td>\n",
       "      <td>37.866249</td>\n",
       "      <td>-122.299371</td>\n",
       "      <td>513</td>\n",
       "      <td>Subscriber</td>\n",
       "      <td>1977.0</td>\n",
       "      <td>Female</td>\n",
       "      <td>No</td>\n",
       "    </tr>\n",
       "    <tr>\n",
       "      <th>89</th>\n",
       "      <td>1803</td>\n",
       "      <td>2019-02-28 22:46:44.0940</td>\n",
       "      <td>2019-02-28 23:16:48.0920</td>\n",
       "      <td>67.0</td>\n",
       "      <td>San Francisco Caltrain Station 2  (Townsend St...</td>\n",
       "      <td>37.776639</td>\n",
       "      <td>-122.395526</td>\n",
       "      <td>9.0</td>\n",
       "      <td>Broadway at Battery St</td>\n",
       "      <td>37.798572</td>\n",
       "      <td>-122.400869</td>\n",
       "      <td>6581</td>\n",
       "      <td>Subscriber</td>\n",
       "      <td>1991.0</td>\n",
       "      <td>Female</td>\n",
       "      <td>No</td>\n",
       "    </tr>\n",
       "    <tr>\n",
       "      <th>90</th>\n",
       "      <td>145</td>\n",
       "      <td>2019-02-28 23:13:31.2080</td>\n",
       "      <td>2019-02-28 23:15:56.4540</td>\n",
       "      <td>245.0</td>\n",
       "      <td>Downtown Berkeley BART</td>\n",
       "      <td>37.870139</td>\n",
       "      <td>-122.268422</td>\n",
       "      <td>252.0</td>\n",
       "      <td>Channing Way at Shattuck Ave</td>\n",
       "      <td>37.865847</td>\n",
       "      <td>-122.267443</td>\n",
       "      <td>3272</td>\n",
       "      <td>Subscriber</td>\n",
       "      <td>1999.0</td>\n",
       "      <td>Male</td>\n",
       "      <td>Yes</td>\n",
       "    </tr>\n",
       "    <tr>\n",
       "      <th>91</th>\n",
       "      <td>5621</td>\n",
       "      <td>2019-02-28 21:41:16.9000</td>\n",
       "      <td>2019-02-28 23:14:58.1860</td>\n",
       "      <td>252.0</td>\n",
       "      <td>Channing Way at Shattuck Ave</td>\n",
       "      <td>37.865847</td>\n",
       "      <td>-122.267443</td>\n",
       "      <td>244.0</td>\n",
       "      <td>Shattuck Ave at Hearst Ave</td>\n",
       "      <td>37.873676</td>\n",
       "      <td>-122.268487</td>\n",
       "      <td>5244</td>\n",
       "      <td>Subscriber</td>\n",
       "      <td>1997.0</td>\n",
       "      <td>Female</td>\n",
       "      <td>No</td>\n",
       "    </tr>\n",
       "    <tr>\n",
       "      <th>92</th>\n",
       "      <td>1940</td>\n",
       "      <td>2019-02-28 22:42:29.7890</td>\n",
       "      <td>2019-02-28 23:14:50.3510</td>\n",
       "      <td>377.0</td>\n",
       "      <td>Fell St at Stanyan St</td>\n",
       "      <td>37.771917</td>\n",
       "      <td>-122.453704</td>\n",
       "      <td>50.0</td>\n",
       "      <td>2nd St at Townsend St</td>\n",
       "      <td>37.780526</td>\n",
       "      <td>-122.390288</td>\n",
       "      <td>4424</td>\n",
       "      <td>Subscriber</td>\n",
       "      <td>1987.0</td>\n",
       "      <td>Female</td>\n",
       "      <td>No</td>\n",
       "    </tr>\n",
       "    <tr>\n",
       "      <th>93</th>\n",
       "      <td>303</td>\n",
       "      <td>2019-02-28 23:09:26.7390</td>\n",
       "      <td>2019-02-28 23:14:30.5620</td>\n",
       "      <td>71.0</td>\n",
       "      <td>Broderick St at Oak St</td>\n",
       "      <td>37.773063</td>\n",
       "      <td>-122.439078</td>\n",
       "      <td>86.0</td>\n",
       "      <td>Market St at Dolores St</td>\n",
       "      <td>37.769305</td>\n",
       "      <td>-122.426826</td>\n",
       "      <td>6194</td>\n",
       "      <td>Subscriber</td>\n",
       "      <td>1989.0</td>\n",
       "      <td>Male</td>\n",
       "      <td>No</td>\n",
       "    </tr>\n",
       "    <tr>\n",
       "      <th>94</th>\n",
       "      <td>407</td>\n",
       "      <td>2019-02-28 23:07:34.6480</td>\n",
       "      <td>2019-02-28 23:14:21.8160</td>\n",
       "      <td>254.0</td>\n",
       "      <td>Vine St at Shattuck Ave</td>\n",
       "      <td>37.880222</td>\n",
       "      <td>-122.269592</td>\n",
       "      <td>266.0</td>\n",
       "      <td>Parker St at Fulton St</td>\n",
       "      <td>37.862464</td>\n",
       "      <td>-122.264791</td>\n",
       "      <td>5785</td>\n",
       "      <td>Subscriber</td>\n",
       "      <td>1996.0</td>\n",
       "      <td>Male</td>\n",
       "      <td>No</td>\n",
       "    </tr>\n",
       "    <tr>\n",
       "      <th>95</th>\n",
       "      <td>815</td>\n",
       "      <td>2019-02-28 23:00:41.3160</td>\n",
       "      <td>2019-02-28 23:14:17.2110</td>\n",
       "      <td>53.0</td>\n",
       "      <td>Grove St at Divisadero</td>\n",
       "      <td>37.775946</td>\n",
       "      <td>-122.437777</td>\n",
       "      <td>133.0</td>\n",
       "      <td>Valencia St at 22nd St</td>\n",
       "      <td>37.755213</td>\n",
       "      <td>-122.420975</td>\n",
       "      <td>5454</td>\n",
       "      <td>Subscriber</td>\n",
       "      <td>1994.0</td>\n",
       "      <td>Male</td>\n",
       "      <td>No</td>\n",
       "    </tr>\n",
       "    <tr>\n",
       "      <th>96</th>\n",
       "      <td>229</td>\n",
       "      <td>2019-02-28 23:09:20.1610</td>\n",
       "      <td>2019-02-28 23:13:10.0550</td>\n",
       "      <td>317.0</td>\n",
       "      <td>San Salvador St at 9th St</td>\n",
       "      <td>37.333955</td>\n",
       "      <td>-121.877349</td>\n",
       "      <td>296.0</td>\n",
       "      <td>5th St at Virginia St</td>\n",
       "      <td>37.325998</td>\n",
       "      <td>-121.877120</td>\n",
       "      <td>4014</td>\n",
       "      <td>Subscriber</td>\n",
       "      <td>1996.0</td>\n",
       "      <td>Male</td>\n",
       "      <td>Yes</td>\n",
       "    </tr>\n",
       "    <tr>\n",
       "      <th>97</th>\n",
       "      <td>497</td>\n",
       "      <td>2019-02-28 23:04:52.1830</td>\n",
       "      <td>2019-02-28 23:13:09.7370</td>\n",
       "      <td>219.0</td>\n",
       "      <td>Marston Campbell Park</td>\n",
       "      <td>37.809824</td>\n",
       "      <td>-122.280192</td>\n",
       "      <td>219.0</td>\n",
       "      <td>Marston Campbell Park</td>\n",
       "      <td>37.809824</td>\n",
       "      <td>-122.280192</td>\n",
       "      <td>5879</td>\n",
       "      <td>Subscriber</td>\n",
       "      <td>1992.0</td>\n",
       "      <td>Female</td>\n",
       "      <td>Yes</td>\n",
       "    </tr>\n",
       "    <tr>\n",
       "      <th>98</th>\n",
       "      <td>549</td>\n",
       "      <td>2019-02-28 23:03:47.2740</td>\n",
       "      <td>2019-02-28 23:12:56.3920</td>\n",
       "      <td>274.0</td>\n",
       "      <td>Oregon St at Adeline St</td>\n",
       "      <td>37.857567</td>\n",
       "      <td>-122.267558</td>\n",
       "      <td>258.0</td>\n",
       "      <td>University Ave at Oxford St</td>\n",
       "      <td>37.872355</td>\n",
       "      <td>-122.266447</td>\n",
       "      <td>828</td>\n",
       "      <td>Customer</td>\n",
       "      <td>1994.0</td>\n",
       "      <td>Male</td>\n",
       "      <td>No</td>\n",
       "    </tr>\n",
       "    <tr>\n",
       "      <th>99</th>\n",
       "      <td>261</td>\n",
       "      <td>2019-02-28 23:08:25.2180</td>\n",
       "      <td>2019-02-28 23:12:46.4210</td>\n",
       "      <td>98.0</td>\n",
       "      <td>Valencia St at 16th St</td>\n",
       "      <td>37.765052</td>\n",
       "      <td>-122.421866</td>\n",
       "      <td>134.0</td>\n",
       "      <td>Valencia St at 24th St</td>\n",
       "      <td>37.752428</td>\n",
       "      <td>-122.420628</td>\n",
       "      <td>5844</td>\n",
       "      <td>Subscriber</td>\n",
       "      <td>1989.0</td>\n",
       "      <td>Male</td>\n",
       "      <td>No</td>\n",
       "    </tr>\n",
       "  </tbody>\n",
       "</table>\n",
       "<p>100 rows × 16 columns</p>\n",
       "</div>"
      ],
      "text/plain": [
       "    duration_sec                start_time                  end_time  \\\n",
       "0          52185  2019-02-28 17:32:10.1450  2019-03-01 08:01:55.9750   \n",
       "1          42521  2019-02-28 18:53:21.7890  2019-03-01 06:42:03.0560   \n",
       "2          61854  2019-02-28 12:13:13.2180  2019-03-01 05:24:08.1460   \n",
       "3          36490  2019-02-28 17:54:26.0100  2019-03-01 04:02:36.8420   \n",
       "4           1585  2019-02-28 23:54:18.5490  2019-03-01 00:20:44.0740   \n",
       "5           1793  2019-02-28 23:49:58.6320  2019-03-01 00:19:51.7600   \n",
       "6           1147  2019-02-28 23:55:35.1040  2019-03-01 00:14:42.5880   \n",
       "7           1615  2019-02-28 23:41:06.7660  2019-03-01 00:08:02.7560   \n",
       "8           1570  2019-02-28 23:41:48.7900  2019-03-01 00:07:59.7150   \n",
       "9           1049  2019-02-28 23:49:47.6990  2019-03-01 00:07:17.0250   \n",
       "10           458  2019-02-28 23:57:57.2110  2019-03-01 00:05:35.4350   \n",
       "11           506  2019-02-28 23:56:55.5400  2019-03-01 00:05:21.7330   \n",
       "12          1176  2019-02-28 23:45:12.6510  2019-03-01 00:04:49.1840   \n",
       "13           915  2019-02-28 23:49:06.0620  2019-03-01 00:04:21.8670   \n",
       "14           395  2019-02-28 23:56:26.8480  2019-03-01 00:03:01.9470   \n",
       "15           208  2019-02-28 23:59:18.5480  2019-03-01 00:02:47.2280   \n",
       "16           548  2019-02-28 23:50:41.6070  2019-02-28 23:59:49.9530   \n",
       "17           674  2019-02-28 23:48:25.0950  2019-02-28 23:59:40.0920   \n",
       "18           557  2019-02-28 23:49:01.8510  2019-02-28 23:58:19.8090   \n",
       "19           874  2019-02-28 23:43:05.1830  2019-02-28 23:57:39.7960   \n",
       "20           417  2019-02-28 23:50:38.2390  2019-02-28 23:57:35.8520   \n",
       "21           414  2019-02-28 23:50:26.8790  2019-02-28 23:57:21.1300   \n",
       "22           743  2019-02-28 23:44:56.4390  2019-02-28 23:57:20.2120   \n",
       "23           367  2019-02-28 23:51:06.0140  2019-02-28 23:57:13.3120   \n",
       "24           252  2019-02-28 23:52:51.1640  2019-02-28 23:57:03.9760   \n",
       "25           360  2019-02-28 23:50:31.4310  2019-02-28 23:56:31.8910   \n",
       "26           385  2019-02-28 23:49:24.3990  2019-02-28 23:55:50.2840   \n",
       "27           408  2019-02-28 23:48:08.2820  2019-02-28 23:54:56.9300   \n",
       "28           650  2019-02-28 23:43:27.5030  2019-02-28 23:54:18.4510   \n",
       "29           629  2019-02-28 23:43:48.6580  2019-02-28 23:54:18.2540   \n",
       "..           ...                       ...                       ...   \n",
       "70           217  2019-02-28 23:25:59.6640  2019-02-28 23:29:36.9080   \n",
       "71           303  2019-02-28 23:24:07.7110  2019-02-28 23:29:11.6190   \n",
       "72           113  2019-02-28 23:26:28.3350  2019-02-28 23:28:21.6250   \n",
       "73           818  2019-02-28 23:14:40.3620  2019-02-28 23:28:18.9100   \n",
       "74           371  2019-02-28 23:21:37.8780  2019-02-28 23:27:48.9790   \n",
       "75          3001  2019-02-28 22:37:41.4700  2019-02-28 23:27:43.3630   \n",
       "76          2973  2019-02-28 22:38:07.4950  2019-02-28 23:27:40.8250   \n",
       "77           167  2019-02-28 23:24:23.4010  2019-02-28 23:27:10.5380   \n",
       "78           355  2019-02-28 23:18:55.6910  2019-02-28 23:24:51.5630   \n",
       "79          1427  2019-02-28 23:00:50.5190  2019-02-28 23:24:38.1720   \n",
       "80           266  2019-02-28 23:16:14.4490  2019-02-28 23:20:41.3530   \n",
       "81           294  2019-02-28 23:15:21.1130  2019-02-28 23:20:15.7980   \n",
       "82           137  2019-02-28 23:17:17.9680  2019-02-28 23:19:35.8460   \n",
       "83          1218  2019-02-28 22:59:11.3420  2019-02-28 23:19:29.6530   \n",
       "84          1087  2019-02-28 23:01:18.4060  2019-02-28 23:19:25.8690   \n",
       "85            73  2019-02-28 23:17:06.4830  2019-02-28 23:18:19.7110   \n",
       "86           175  2019-02-28 23:15:09.9130  2019-02-28 23:18:05.7640   \n",
       "87          2151  2019-02-28 22:42:05.2150  2019-02-28 23:17:56.9670   \n",
       "88           405  2019-02-28 23:10:51.1970  2019-02-28 23:17:36.5560   \n",
       "89          1803  2019-02-28 22:46:44.0940  2019-02-28 23:16:48.0920   \n",
       "90           145  2019-02-28 23:13:31.2080  2019-02-28 23:15:56.4540   \n",
       "91          5621  2019-02-28 21:41:16.9000  2019-02-28 23:14:58.1860   \n",
       "92          1940  2019-02-28 22:42:29.7890  2019-02-28 23:14:50.3510   \n",
       "93           303  2019-02-28 23:09:26.7390  2019-02-28 23:14:30.5620   \n",
       "94           407  2019-02-28 23:07:34.6480  2019-02-28 23:14:21.8160   \n",
       "95           815  2019-02-28 23:00:41.3160  2019-02-28 23:14:17.2110   \n",
       "96           229  2019-02-28 23:09:20.1610  2019-02-28 23:13:10.0550   \n",
       "97           497  2019-02-28 23:04:52.1830  2019-02-28 23:13:09.7370   \n",
       "98           549  2019-02-28 23:03:47.2740  2019-02-28 23:12:56.3920   \n",
       "99           261  2019-02-28 23:08:25.2180  2019-02-28 23:12:46.4210   \n",
       "\n",
       "    start_station_id                                 start_station_name  \\\n",
       "0               21.0   Montgomery St BART Station (Market St at 2nd St)   \n",
       "1               23.0                      The Embarcadero at Steuart St   \n",
       "2               86.0                            Market St at Dolores St   \n",
       "3              375.0                            Grove St at Masonic Ave   \n",
       "4                7.0                                Frank H Ogawa Plaza   \n",
       "5               93.0                       4th St at Mission Bay Blvd S   \n",
       "6              300.0                               Palm St at Willow St   \n",
       "7               10.0                         Washington St at Kearny St   \n",
       "8               10.0                         Washington St at Kearny St   \n",
       "9               19.0                               Post St at Kearny St   \n",
       "10             370.0                                Jones St at Post St   \n",
       "11              44.0  Civic Center/UN Plaza BART Station (Market St ...   \n",
       "12             127.0                             Valencia St at 21st St   \n",
       "13             252.0                       Channing Way at Shattuck Ave   \n",
       "14             243.0                        Bancroft Way at College Ave   \n",
       "15             349.0                               Howard St at Mary St   \n",
       "16             131.0                              22nd St at Dolores St   \n",
       "17              74.0                              Laguna St at Hayes St   \n",
       "18             321.0                                   5th St at Folsom   \n",
       "19             180.0                           Telegraph Ave at 23rd St   \n",
       "20              72.0                                Page St at Scott St   \n",
       "21             163.0                          Lake Merritt BART Station   \n",
       "22             370.0                                Jones St at Post St   \n",
       "23             243.0                        Bancroft Way at College Ave   \n",
       "24             190.0                                 West St at 40th St   \n",
       "25             163.0                          Lake Merritt BART Station   \n",
       "26               6.0                      The Embarcadero at Sansome St   \n",
       "27              78.0                                Folsom St at 9th St   \n",
       "28             258.0                        University Ave at Oxford St   \n",
       "29             258.0                        University Ave at Oxford St   \n",
       "..               ...                                                ...   \n",
       "70             239.0                      Bancroft Way at Telegraph Ave   \n",
       "71             182.0                           19th Street BART Station   \n",
       "72             163.0                          Lake Merritt BART Station   \n",
       "73             119.0                                  18th St at Noe St   \n",
       "74             369.0                                 Hyde St at Post St   \n",
       "75             159.0                               24th St at Market St   \n",
       "76             159.0                               24th St at Market St   \n",
       "77             254.0                            Vine St at Shattuck Ave   \n",
       "78              30.0     San Francisco Caltrain (Townsend St at 4th St)   \n",
       "79              53.0                             Grove St at Divisadero   \n",
       "80             321.0                                   5th St at Folsom   \n",
       "81             356.0                        Valencia St at Clinton Park   \n",
       "82              30.0     San Francisco Caltrain (Townsend St at 4th St)   \n",
       "83             324.0                Union Square (Powell St at Post St)   \n",
       "84              71.0                             Broderick St at Oak St   \n",
       "85              67.0  San Francisco Caltrain Station 2  (Townsend St...   \n",
       "86             140.0                      Cesar Chavez St at Dolores St   \n",
       "87              78.0                                Folsom St at 9th St   \n",
       "88             250.0                        North Berkeley BART Station   \n",
       "89              67.0  San Francisco Caltrain Station 2  (Townsend St...   \n",
       "90             245.0                             Downtown Berkeley BART   \n",
       "91             252.0                       Channing Way at Shattuck Ave   \n",
       "92             377.0                              Fell St at Stanyan St   \n",
       "93              71.0                             Broderick St at Oak St   \n",
       "94             254.0                            Vine St at Shattuck Ave   \n",
       "95              53.0                             Grove St at Divisadero   \n",
       "96             317.0                          San Salvador St at 9th St   \n",
       "97             219.0                              Marston Campbell Park   \n",
       "98             274.0                            Oregon St at Adeline St   \n",
       "99              98.0                             Valencia St at 16th St   \n",
       "\n",
       "    start_station_latitude  start_station_longitude  end_station_id  \\\n",
       "0                37.789625              -122.400811            13.0   \n",
       "1                37.791464              -122.391034            81.0   \n",
       "2                37.769305              -122.426826             3.0   \n",
       "3                37.774836              -122.446546            70.0   \n",
       "4                37.804562              -122.271738           222.0   \n",
       "5                37.770407              -122.391198           323.0   \n",
       "6                37.317298              -121.884995           312.0   \n",
       "7                37.795393              -122.404770           127.0   \n",
       "8                37.795393              -122.404770           127.0   \n",
       "9                37.788975              -122.403452           121.0   \n",
       "10               37.787327              -122.413278            43.0   \n",
       "11               37.781074              -122.411738           343.0   \n",
       "12               37.756708              -122.421025           323.0   \n",
       "13               37.865847              -122.267443           244.0   \n",
       "14               37.869360              -122.254337           252.0   \n",
       "15               37.781010              -122.405666            60.0   \n",
       "16               37.755000              -122.425728            71.0   \n",
       "17               37.776435              -122.426244           336.0   \n",
       "18               37.780146              -122.403071            75.0   \n",
       "19               37.812678              -122.268773           180.0   \n",
       "20               37.772406              -122.435650           107.0   \n",
       "21               37.797320              -122.265320           221.0   \n",
       "22               37.787327              -122.413278            52.0   \n",
       "23               37.869360              -122.254337           269.0   \n",
       "24               37.830223              -122.270950           189.0   \n",
       "25               37.797320              -122.265320           196.0   \n",
       "26               37.804770              -122.403234            15.0   \n",
       "27               37.773717              -122.411647            78.0   \n",
       "28               37.872355              -122.266447           263.0   \n",
       "29               37.872355              -122.266447           263.0   \n",
       "..                     ...                      ...             ...   \n",
       "70               37.868813              -122.258764           266.0   \n",
       "71               37.809013              -122.268247           197.0   \n",
       "72               37.797320              -122.265320           163.0   \n",
       "73               37.761047              -122.432642            62.0   \n",
       "74               37.787349              -122.416651           369.0   \n",
       "75               37.816060              -122.278244           159.0   \n",
       "76               37.816060              -122.278244           159.0   \n",
       "77               37.880222              -122.269592           244.0   \n",
       "78               37.776598              -122.395282            62.0   \n",
       "79               37.775946              -122.437777           369.0   \n",
       "80               37.780146              -122.403071            60.0   \n",
       "81               37.769188              -122.422285            58.0   \n",
       "82               37.776598              -122.395282            64.0   \n",
       "83               37.788300              -122.408531           386.0   \n",
       "84               37.773063              -122.439078           145.0   \n",
       "85               37.776639              -122.395526            80.0   \n",
       "86               37.747858              -122.424986           132.0   \n",
       "87               37.773717              -122.411647            15.0   \n",
       "88               37.873558              -122.283093           259.0   \n",
       "89               37.776639              -122.395526             9.0   \n",
       "90               37.870139              -122.268422           252.0   \n",
       "91               37.865847              -122.267443           244.0   \n",
       "92               37.771917              -122.453704            50.0   \n",
       "93               37.773063              -122.439078            86.0   \n",
       "94               37.880222              -122.269592           266.0   \n",
       "95               37.775946              -122.437777           133.0   \n",
       "96               37.333955              -121.877349           296.0   \n",
       "97               37.809824              -122.280192           219.0   \n",
       "98               37.857567              -122.267558           258.0   \n",
       "99               37.765052              -122.421866           134.0   \n",
       "\n",
       "                                     end_station_name  end_station_latitude  \\\n",
       "0                      Commercial St at Montgomery St             37.794231   \n",
       "1                                  Berry St at 4th St             37.775880   \n",
       "2        Powell St BART Station (Market St at 4th St)             37.786375   \n",
       "3                              Central Ave at Fell St             37.773311   \n",
       "4                               10th Ave at E 15th St             37.792714   \n",
       "5                                  Broadway at Kearny             37.798014   \n",
       "6                            San Jose Diridon Station             37.329732   \n",
       "7                              Valencia St at 21st St             37.756708   \n",
       "8                              Valencia St at 21st St             37.756708   \n",
       "9                                  Mission Playground             37.759210   \n",
       "10  San Francisco Public Library (Grove St at Hyde...             37.778768   \n",
       "11                                Bryant St at 2nd St             37.783172   \n",
       "12                                 Broadway at Kearny             37.798014   \n",
       "13                         Shattuck Ave at Hearst Ave             37.873676   \n",
       "14                       Channing Way at Shattuck Ave             37.865847   \n",
       "15                               8th St at Ringold St             37.774520   \n",
       "16                             Broderick St at Oak St             37.773063   \n",
       "17                        Potrero Ave and Mariposa St             37.763281   \n",
       "18                           Market St at Franklin St             37.773793   \n",
       "19                           Telegraph Ave at 23rd St             37.812678   \n",
       "20                              17th St at Dolores St             37.763015   \n",
       "21          6th Ave at E 12th St (Temporary Location)             37.794396   \n",
       "22                          McAllister St at Baker St             37.777416   \n",
       "23                       Telegraph Ave at Carleton St             37.862320   \n",
       "24                                Genoa St at 55th St             37.839649   \n",
       "25                            Grand Ave at Perkins St             37.808894   \n",
       "26  San Francisco Ferry Building (Harry Bridges Pl...             37.795392   \n",
       "27                                Folsom St at 9th St             37.773717   \n",
       "28                      Channing Way at San Pablo Ave             37.862827   \n",
       "29                      Channing Way at San Pablo Ave             37.862827   \n",
       "..                                                ...                   ...   \n",
       "70                             Parker St at Fulton St             37.862464   \n",
       "71                        El Embarcadero at Grand Ave             37.808848   \n",
       "72                          Lake Merritt BART Station             37.797320   \n",
       "73                        Victoria Manalo Draves Park             37.777791   \n",
       "74                                 Hyde St at Post St             37.787349   \n",
       "75                               24th St at Market St             37.816060   \n",
       "76                               24th St at Market St             37.816060   \n",
       "77                         Shattuck Ave at Hearst Ave             37.873676   \n",
       "78                        Victoria Manalo Draves Park             37.777791   \n",
       "79                                 Hyde St at Post St             37.787349   \n",
       "80                               8th St at Ringold St             37.774520   \n",
       "81                               Market St at 10th St             37.776619   \n",
       "82                               5th St at Brannan St             37.776754   \n",
       "83                             24th St at Bartlett St             37.752105   \n",
       "84                               29th St at Church St             37.743684   \n",
       "85                              Townsend St at 5th St             37.775235   \n",
       "86                          24th St at Chattanooga St             37.751819   \n",
       "87  San Francisco Ferry Building (Harry Bridges Pl...             37.795392   \n",
       "88                            Addison St at Fourth St             37.866249   \n",
       "89                             Broadway at Battery St             37.798572   \n",
       "90                       Channing Way at Shattuck Ave             37.865847   \n",
       "91                         Shattuck Ave at Hearst Ave             37.873676   \n",
       "92                              2nd St at Townsend St             37.780526   \n",
       "93                            Market St at Dolores St             37.769305   \n",
       "94                             Parker St at Fulton St             37.862464   \n",
       "95                             Valencia St at 22nd St             37.755213   \n",
       "96                              5th St at Virginia St             37.325998   \n",
       "97                              Marston Campbell Park             37.809824   \n",
       "98                        University Ave at Oxford St             37.872355   \n",
       "99                             Valencia St at 24th St             37.752428   \n",
       "\n",
       "    end_station_longitude  bike_id   user_type  member_birth_year  \\\n",
       "0             -122.402923     4902    Customer             1984.0   \n",
       "1             -122.393170     2535    Customer                NaN   \n",
       "2             -122.404904     5905    Customer             1972.0   \n",
       "3             -122.444293     6638  Subscriber             1989.0   \n",
       "4             -122.248780     4898  Subscriber             1974.0   \n",
       "5             -122.405950     5200  Subscriber             1959.0   \n",
       "6             -121.901782     3803  Subscriber             1983.0   \n",
       "7             -122.421025     6329  Subscriber             1989.0   \n",
       "8             -122.421025     6548  Subscriber             1988.0   \n",
       "9             -122.421339     6488  Subscriber             1992.0   \n",
       "10            -122.415929     5318  Subscriber             1996.0   \n",
       "11            -122.393572     5848  Subscriber             1993.0   \n",
       "12            -122.405950     5328    Customer             1990.0   \n",
       "13            -122.268487     5101  Subscriber                NaN   \n",
       "14            -122.267443     4786  Subscriber             1988.0   \n",
       "15            -122.409449     6361  Subscriber             1993.0   \n",
       "16            -122.439078     6572  Subscriber             1981.0   \n",
       "17            -122.407377     5343  Subscriber             1975.0   \n",
       "18            -122.421239     5854  Subscriber             1990.0   \n",
       "19            -122.268773     5629    Customer             1978.0   \n",
       "20            -122.426497     4999  Subscriber             1983.0   \n",
       "21            -122.253842     6007  Subscriber             1984.0   \n",
       "22            -122.441838     5479  Subscriber             1991.0   \n",
       "23            -122.258801     1804  Subscriber             1997.0   \n",
       "24            -122.271756     5678  Subscriber             1975.0   \n",
       "25            -122.256460     6240  Subscriber             1986.0   \n",
       "26            -122.394203     6531    Customer             2000.0   \n",
       "27            -122.411647     5410  Subscriber             1982.0   \n",
       "28            -122.290230     4784    Customer                NaN   \n",
       "29            -122.290230      363  Subscriber             1995.0   \n",
       "..                    ...      ...         ...                ...   \n",
       "70            -122.264791     2647  Subscriber             1997.0   \n",
       "71            -122.249680     5883  Subscriber             1988.0   \n",
       "72            -122.265320     5414  Subscriber             1975.0   \n",
       "73            -122.406432     5284    Customer             1980.0   \n",
       "74            -122.416651     6404  Subscriber             1990.0   \n",
       "75            -122.278244     5471  Subscriber             1998.0   \n",
       "76            -122.278244     5702  Subscriber             1993.0   \n",
       "77            -122.268487     5689  Subscriber             1992.0   \n",
       "78            -122.406432     6102  Subscriber             1983.0   \n",
       "79            -122.416651     6597  Subscriber             1994.0   \n",
       "80            -122.409449     5091  Subscriber             1992.0   \n",
       "81            -122.417385     5938  Subscriber             1992.0   \n",
       "82            -122.399018     6520  Subscriber             1990.0   \n",
       "83            -122.419724     5914  Subscriber             1980.0   \n",
       "84            -122.426806     5332    Customer             1982.0   \n",
       "85            -122.397437     5012  Subscriber             1995.0   \n",
       "86            -122.426614     5048  Subscriber             1981.0   \n",
       "87            -122.394203     5411  Subscriber             1972.0   \n",
       "88            -122.299371      513  Subscriber             1977.0   \n",
       "89            -122.400869     6581  Subscriber             1991.0   \n",
       "90            -122.267443     3272  Subscriber             1999.0   \n",
       "91            -122.268487     5244  Subscriber             1997.0   \n",
       "92            -122.390288     4424  Subscriber             1987.0   \n",
       "93            -122.426826     6194  Subscriber             1989.0   \n",
       "94            -122.264791     5785  Subscriber             1996.0   \n",
       "95            -122.420975     5454  Subscriber             1994.0   \n",
       "96            -121.877120     4014  Subscriber             1996.0   \n",
       "97            -122.280192     5879  Subscriber             1992.0   \n",
       "98            -122.266447      828    Customer             1994.0   \n",
       "99            -122.420628     5844  Subscriber             1989.0   \n",
       "\n",
       "   member_gender bike_share_for_all_trip  \n",
       "0           Male                      No  \n",
       "1            NaN                      No  \n",
       "2           Male                      No  \n",
       "3          Other                      No  \n",
       "4           Male                     Yes  \n",
       "5           Male                      No  \n",
       "6         Female                      No  \n",
       "7           Male                      No  \n",
       "8          Other                      No  \n",
       "9           Male                      No  \n",
       "10        Female                     Yes  \n",
       "11          Male                      No  \n",
       "12          Male                      No  \n",
       "13           NaN                      No  \n",
       "14          Male                      No  \n",
       "15          Male                     Yes  \n",
       "16          Male                      No  \n",
       "17          Male                      No  \n",
       "18          Male                      No  \n",
       "19          Male                      No  \n",
       "20          Male                      No  \n",
       "21          Male                     Yes  \n",
       "22        Female                      No  \n",
       "23        Female                      No  \n",
       "24          Male                      No  \n",
       "25          Male                      No  \n",
       "26          Male                      No  \n",
       "27          Male                      No  \n",
       "28           NaN                      No  \n",
       "29          Male                      No  \n",
       "..           ...                     ...  \n",
       "70          Male                      No  \n",
       "71          Male                      No  \n",
       "72          Male                      No  \n",
       "73          Male                      No  \n",
       "74          Male                      No  \n",
       "75        Female                     Yes  \n",
       "76        Female                     Yes  \n",
       "77          Male                     Yes  \n",
       "78          Male                      No  \n",
       "79          Male                      No  \n",
       "80          Male                      No  \n",
       "81        Female                      No  \n",
       "82          Male                      No  \n",
       "83          Male                      No  \n",
       "84          Male                      No  \n",
       "85          Male                      No  \n",
       "86          Male                      No  \n",
       "87          Male                      No  \n",
       "88        Female                      No  \n",
       "89        Female                      No  \n",
       "90          Male                     Yes  \n",
       "91        Female                      No  \n",
       "92        Female                      No  \n",
       "93          Male                      No  \n",
       "94          Male                      No  \n",
       "95          Male                      No  \n",
       "96          Male                     Yes  \n",
       "97        Female                     Yes  \n",
       "98          Male                      No  \n",
       "99          Male                      No  \n",
       "\n",
       "[100 rows x 16 columns]"
      ]
     },
     "execution_count": 330,
     "metadata": {},
     "output_type": "execute_result"
    }
   ],
   "source": [
    "df.head(100)"
   ]
  },
  {
   "cell_type": "code",
   "execution_count": 331,
   "metadata": {},
   "outputs": [
    {
     "data": {
      "text/html": [
       "<div>\n",
       "<style scoped>\n",
       "    .dataframe tbody tr th:only-of-type {\n",
       "        vertical-align: middle;\n",
       "    }\n",
       "\n",
       "    .dataframe tbody tr th {\n",
       "        vertical-align: top;\n",
       "    }\n",
       "\n",
       "    .dataframe thead th {\n",
       "        text-align: right;\n",
       "    }\n",
       "</style>\n",
       "<table border=\"1\" class=\"dataframe\">\n",
       "  <thead>\n",
       "    <tr style=\"text-align: right;\">\n",
       "      <th></th>\n",
       "      <th>duration_sec</th>\n",
       "      <th>start_station_id</th>\n",
       "      <th>start_station_latitude</th>\n",
       "      <th>start_station_longitude</th>\n",
       "      <th>end_station_id</th>\n",
       "      <th>end_station_latitude</th>\n",
       "      <th>end_station_longitude</th>\n",
       "      <th>bike_id</th>\n",
       "      <th>member_birth_year</th>\n",
       "    </tr>\n",
       "  </thead>\n",
       "  <tbody>\n",
       "    <tr>\n",
       "      <th>count</th>\n",
       "      <td>183412.000000</td>\n",
       "      <td>183215.000000</td>\n",
       "      <td>183412.000000</td>\n",
       "      <td>183412.000000</td>\n",
       "      <td>183215.000000</td>\n",
       "      <td>183412.000000</td>\n",
       "      <td>183412.000000</td>\n",
       "      <td>183412.000000</td>\n",
       "      <td>175147.000000</td>\n",
       "    </tr>\n",
       "    <tr>\n",
       "      <th>mean</th>\n",
       "      <td>726.078435</td>\n",
       "      <td>138.590427</td>\n",
       "      <td>37.771223</td>\n",
       "      <td>-122.352664</td>\n",
       "      <td>136.249123</td>\n",
       "      <td>37.771427</td>\n",
       "      <td>-122.352250</td>\n",
       "      <td>4472.906375</td>\n",
       "      <td>1984.806437</td>\n",
       "    </tr>\n",
       "    <tr>\n",
       "      <th>std</th>\n",
       "      <td>1794.389780</td>\n",
       "      <td>111.778864</td>\n",
       "      <td>0.099581</td>\n",
       "      <td>0.117097</td>\n",
       "      <td>111.515131</td>\n",
       "      <td>0.099490</td>\n",
       "      <td>0.116673</td>\n",
       "      <td>1664.383394</td>\n",
       "      <td>10.116689</td>\n",
       "    </tr>\n",
       "    <tr>\n",
       "      <th>min</th>\n",
       "      <td>61.000000</td>\n",
       "      <td>3.000000</td>\n",
       "      <td>37.317298</td>\n",
       "      <td>-122.453704</td>\n",
       "      <td>3.000000</td>\n",
       "      <td>37.317298</td>\n",
       "      <td>-122.453704</td>\n",
       "      <td>11.000000</td>\n",
       "      <td>1878.000000</td>\n",
       "    </tr>\n",
       "    <tr>\n",
       "      <th>25%</th>\n",
       "      <td>325.000000</td>\n",
       "      <td>47.000000</td>\n",
       "      <td>37.770083</td>\n",
       "      <td>-122.412408</td>\n",
       "      <td>44.000000</td>\n",
       "      <td>37.770407</td>\n",
       "      <td>-122.411726</td>\n",
       "      <td>3777.000000</td>\n",
       "      <td>1980.000000</td>\n",
       "    </tr>\n",
       "    <tr>\n",
       "      <th>50%</th>\n",
       "      <td>514.000000</td>\n",
       "      <td>104.000000</td>\n",
       "      <td>37.780760</td>\n",
       "      <td>-122.398285</td>\n",
       "      <td>100.000000</td>\n",
       "      <td>37.781010</td>\n",
       "      <td>-122.398279</td>\n",
       "      <td>4958.000000</td>\n",
       "      <td>1987.000000</td>\n",
       "    </tr>\n",
       "    <tr>\n",
       "      <th>75%</th>\n",
       "      <td>796.000000</td>\n",
       "      <td>239.000000</td>\n",
       "      <td>37.797280</td>\n",
       "      <td>-122.286533</td>\n",
       "      <td>235.000000</td>\n",
       "      <td>37.797320</td>\n",
       "      <td>-122.288045</td>\n",
       "      <td>5502.000000</td>\n",
       "      <td>1992.000000</td>\n",
       "    </tr>\n",
       "    <tr>\n",
       "      <th>max</th>\n",
       "      <td>85444.000000</td>\n",
       "      <td>398.000000</td>\n",
       "      <td>37.880222</td>\n",
       "      <td>-121.874119</td>\n",
       "      <td>398.000000</td>\n",
       "      <td>37.880222</td>\n",
       "      <td>-121.874119</td>\n",
       "      <td>6645.000000</td>\n",
       "      <td>2001.000000</td>\n",
       "    </tr>\n",
       "  </tbody>\n",
       "</table>\n",
       "</div>"
      ],
      "text/plain": [
       "        duration_sec  start_station_id  start_station_latitude  \\\n",
       "count  183412.000000     183215.000000           183412.000000   \n",
       "mean      726.078435        138.590427               37.771223   \n",
       "std      1794.389780        111.778864                0.099581   \n",
       "min        61.000000          3.000000               37.317298   \n",
       "25%       325.000000         47.000000               37.770083   \n",
       "50%       514.000000        104.000000               37.780760   \n",
       "75%       796.000000        239.000000               37.797280   \n",
       "max     85444.000000        398.000000               37.880222   \n",
       "\n",
       "       start_station_longitude  end_station_id  end_station_latitude  \\\n",
       "count            183412.000000   183215.000000         183412.000000   \n",
       "mean               -122.352664      136.249123             37.771427   \n",
       "std                   0.117097      111.515131              0.099490   \n",
       "min                -122.453704        3.000000             37.317298   \n",
       "25%                -122.412408       44.000000             37.770407   \n",
       "50%                -122.398285      100.000000             37.781010   \n",
       "75%                -122.286533      235.000000             37.797320   \n",
       "max                -121.874119      398.000000             37.880222   \n",
       "\n",
       "       end_station_longitude        bike_id  member_birth_year  \n",
       "count          183412.000000  183412.000000      175147.000000  \n",
       "mean             -122.352250    4472.906375        1984.806437  \n",
       "std                 0.116673    1664.383394          10.116689  \n",
       "min              -122.453704      11.000000        1878.000000  \n",
       "25%              -122.411726    3777.000000        1980.000000  \n",
       "50%              -122.398279    4958.000000        1987.000000  \n",
       "75%              -122.288045    5502.000000        1992.000000  \n",
       "max              -121.874119    6645.000000        2001.000000  "
      ]
     },
     "execution_count": 331,
     "metadata": {},
     "output_type": "execute_result"
    }
   ],
   "source": [
    "df.describe()"
   ]
  },
  {
   "cell_type": "code",
   "execution_count": 332,
   "metadata": {},
   "outputs": [
    {
     "data": {
      "text/plain": [
       "duration_sec                 int64\n",
       "start_time                  object\n",
       "end_time                    object\n",
       "start_station_id           float64\n",
       "start_station_name          object\n",
       "start_station_latitude     float64\n",
       "start_station_longitude    float64\n",
       "end_station_id             float64\n",
       "end_station_name            object\n",
       "end_station_latitude       float64\n",
       "end_station_longitude      float64\n",
       "bike_id                      int64\n",
       "user_type                   object\n",
       "member_birth_year          float64\n",
       "member_gender               object\n",
       "bike_share_for_all_trip     object\n",
       "dtype: object"
      ]
     },
     "execution_count": 332,
     "metadata": {},
     "output_type": "execute_result"
    }
   ],
   "source": [
    "df.dtypes"
   ]
  },
  {
   "cell_type": "markdown",
   "metadata": {},
   "source": [
    "On viewing the description of data above,I have noticed some data types that need to be fixed\n",
    "Before Fixing them I will have to remove nans in addition to unwanted columns.\n"
   ]
  },
  {
   "cell_type": "code",
   "execution_count": 333,
   "metadata": {},
   "outputs": [
    {
     "name": "stdout",
     "output_type": "stream",
     "text": [
      "<class 'pandas.core.frame.DataFrame'>\n",
      "RangeIndex: 183412 entries, 0 to 183411\n",
      "Data columns (total 5 columns):\n",
      "duration_sec         183412 non-null int64\n",
      "start_time           183412 non-null object\n",
      "user_type            183412 non-null object\n",
      "member_birth_year    175147 non-null float64\n",
      "member_gender        175147 non-null object\n",
      "dtypes: float64(1), int64(1), object(3)\n",
      "memory usage: 7.0+ MB\n"
     ]
    }
   ],
   "source": [
    "#Removing the columns that I dont care about\n",
    "df.drop(['start_station_id','end_station_id','bike_id','start_station_latitude','start_station_name','end_time','end_station_name','start_station_longitude', 'end_station_latitude', 'end_station_longitude','bike_share_for_all_trip'], axis=1, inplace=True)\n",
    "\n",
    "#Checking that removal is done successfully\n",
    "df.info()"
   ]
  },
  {
   "cell_type": "code",
   "execution_count": 334,
   "metadata": {},
   "outputs": [
    {
     "data": {
      "text/plain": [
       "0"
      ]
     },
     "execution_count": 334,
     "metadata": {},
     "output_type": "execute_result"
    }
   ],
   "source": [
    "#checking if we need to drop any duplicates\n",
    "sum(df.duplicated())\n"
   ]
  },
  {
   "cell_type": "code",
   "execution_count": 335,
   "metadata": {},
   "outputs": [],
   "source": [
    "df=df.dropna()"
   ]
  },
  {
   "cell_type": "code",
   "execution_count": 336,
   "metadata": {},
   "outputs": [
    {
     "name": "stdout",
     "output_type": "stream",
     "text": [
      "<class 'pandas.core.frame.DataFrame'>\n",
      "Int64Index: 175147 entries, 0 to 183411\n",
      "Data columns (total 5 columns):\n",
      "duration_sec         175147 non-null int64\n",
      "start_time           175147 non-null object\n",
      "user_type            175147 non-null object\n",
      "member_birth_year    175147 non-null float64\n",
      "member_gender        175147 non-null object\n",
      "dtypes: float64(1), int64(1), object(3)\n",
      "memory usage: 8.0+ MB\n"
     ]
    }
   ],
   "source": [
    "df.info()"
   ]
  },
  {
   "cell_type": "code",
   "execution_count": 337,
   "metadata": {},
   "outputs": [
    {
     "name": "stdout",
     "output_type": "stream",
     "text": [
      "<class 'pandas.core.frame.DataFrame'>\n",
      "Int64Index: 175147 entries, 0 to 183411\n",
      "Data columns (total 5 columns):\n",
      "duration_sec         175147 non-null int64\n",
      "start_time           175147 non-null datetime64[ns]\n",
      "user_type            175147 non-null object\n",
      "member_birth_year    175147 non-null int64\n",
      "member_gender        175147 non-null category\n",
      "dtypes: category(1), datetime64[ns](1), int64(2), object(1)\n",
      "memory usage: 6.8+ MB\n"
     ]
    }
   ],
   "source": [
    "# Birth Year is Float\n",
    "# change start and end times to datatime\n",
    "# change gender to category\n",
    "df.member_birth_year = df['member_birth_year'].astype(int)\n",
    "df.start_time = pd.to_datetime(df.start_time)\n",
    "df.member_gender = df['member_gender'].astype('category')\n",
    "\n",
    "\n",
    "df.info()"
   ]
  },
  {
   "cell_type": "code",
   "execution_count": 338,
   "metadata": {},
   "outputs": [
    {
     "name": "stdout",
     "output_type": "stream",
     "text": [
      "<class 'pandas.core.frame.DataFrame'>\n",
      "Int64Index: 175147 entries, 0 to 183411\n",
      "Data columns (total 5 columns):\n",
      "start_time           175147 non-null datetime64[ns]\n",
      "user_type            175147 non-null object\n",
      "member_birth_year    175147 non-null int64\n",
      "member_gender        175147 non-null category\n",
      "duration_minutes     175147 non-null float64\n",
      "dtypes: category(1), datetime64[ns](1), float64(1), int64(1), object(1)\n",
      "memory usage: 6.8+ MB\n"
     ]
    }
   ],
   "source": [
    "df['duration_minutes'] = df['duration_sec']/60\n",
    "df.drop(['duration_sec'], axis=1, inplace=True)\n",
    "df.info()"
   ]
  },
  {
   "cell_type": "code",
   "execution_count": 339,
   "metadata": {},
   "outputs": [
    {
     "name": "stdout",
     "output_type": "stream",
     "text": [
      "<class 'pandas.core.frame.DataFrame'>\n",
      "Int64Index: 175147 entries, 0 to 183411\n",
      "Data columns (total 7 columns):\n",
      "user_type            175147 non-null object\n",
      "member_birth_year    175147 non-null int64\n",
      "member_gender        175147 non-null category\n",
      "duration_minutes     175147 non-null float64\n",
      "start_year           175147 non-null int64\n",
      "start_weekday        175147 non-null int64\n",
      "start_hour           175147 non-null int64\n",
      "dtypes: category(1), float64(1), int64(4), object(1)\n",
      "memory usage: 9.5+ MB\n"
     ]
    }
   ],
   "source": [
    "df['start_year'] = df.start_time.dt.year\n",
    "# df['start_month'] = df.start_time.dt.month\n",
    "df['start_weekday'] = df.start_time.dt.weekday \n",
    "df['start_hour'] = df.start_time.dt.hour\n",
    "df.drop(['start_time'], axis=1, inplace=True)\n",
    "df.info()"
   ]
  },
  {
   "cell_type": "code",
   "execution_count": 340,
   "metadata": {},
   "outputs": [
    {
     "name": "stdout",
     "output_type": "stream",
     "text": [
      "<class 'pandas.core.frame.DataFrame'>\n",
      "Int64Index: 175147 entries, 0 to 183411\n",
      "Data columns (total 7 columns):\n",
      "user_type           175147 non-null object\n",
      "member_gender       175147 non-null category\n",
      "duration_minutes    175147 non-null float64\n",
      "start_year          175147 non-null int64\n",
      "start_weekday       175147 non-null int64\n",
      "start_hour          175147 non-null int64\n",
      "age                 175147 non-null int64\n",
      "dtypes: category(1), float64(1), int64(4), object(1)\n",
      "memory usage: 9.5+ MB\n"
     ]
    }
   ],
   "source": [
    "## Finding Age of \n",
    "df['age'] = df.start_year - df.member_birth_year\n",
    "df.drop(['member_birth_year'], axis=1, inplace=True)\n",
    "df.info()"
   ]
  },
  {
   "cell_type": "code",
   "execution_count": 341,
   "metadata": {},
   "outputs": [
    {
     "data": {
      "text/html": [
       "<div>\n",
       "<style scoped>\n",
       "    .dataframe tbody tr th:only-of-type {\n",
       "        vertical-align: middle;\n",
       "    }\n",
       "\n",
       "    .dataframe tbody tr th {\n",
       "        vertical-align: top;\n",
       "    }\n",
       "\n",
       "    .dataframe thead th {\n",
       "        text-align: right;\n",
       "    }\n",
       "</style>\n",
       "<table border=\"1\" class=\"dataframe\">\n",
       "  <thead>\n",
       "    <tr style=\"text-align: right;\">\n",
       "      <th></th>\n",
       "      <th>user_type</th>\n",
       "      <th>member_gender</th>\n",
       "      <th>duration_minutes</th>\n",
       "      <th>start_year</th>\n",
       "      <th>start_weekday</th>\n",
       "      <th>start_hour</th>\n",
       "      <th>age</th>\n",
       "    </tr>\n",
       "  </thead>\n",
       "  <tbody>\n",
       "    <tr>\n",
       "      <th>0</th>\n",
       "      <td>Customer</td>\n",
       "      <td>Male</td>\n",
       "      <td>869.750000</td>\n",
       "      <td>2019</td>\n",
       "      <td>3</td>\n",
       "      <td>17</td>\n",
       "      <td>35</td>\n",
       "    </tr>\n",
       "    <tr>\n",
       "      <th>2</th>\n",
       "      <td>Customer</td>\n",
       "      <td>Male</td>\n",
       "      <td>1030.900000</td>\n",
       "      <td>2019</td>\n",
       "      <td>3</td>\n",
       "      <td>12</td>\n",
       "      <td>47</td>\n",
       "    </tr>\n",
       "    <tr>\n",
       "      <th>3</th>\n",
       "      <td>Subscriber</td>\n",
       "      <td>Other</td>\n",
       "      <td>608.166667</td>\n",
       "      <td>2019</td>\n",
       "      <td>3</td>\n",
       "      <td>17</td>\n",
       "      <td>30</td>\n",
       "    </tr>\n",
       "    <tr>\n",
       "      <th>4</th>\n",
       "      <td>Subscriber</td>\n",
       "      <td>Male</td>\n",
       "      <td>26.416667</td>\n",
       "      <td>2019</td>\n",
       "      <td>3</td>\n",
       "      <td>23</td>\n",
       "      <td>45</td>\n",
       "    </tr>\n",
       "    <tr>\n",
       "      <th>5</th>\n",
       "      <td>Subscriber</td>\n",
       "      <td>Male</td>\n",
       "      <td>29.883333</td>\n",
       "      <td>2019</td>\n",
       "      <td>3</td>\n",
       "      <td>23</td>\n",
       "      <td>60</td>\n",
       "    </tr>\n",
       "  </tbody>\n",
       "</table>\n",
       "</div>"
      ],
      "text/plain": [
       "    user_type member_gender  duration_minutes  start_year  start_weekday  \\\n",
       "0    Customer          Male        869.750000        2019              3   \n",
       "2    Customer          Male       1030.900000        2019              3   \n",
       "3  Subscriber         Other        608.166667        2019              3   \n",
       "4  Subscriber          Male         26.416667        2019              3   \n",
       "5  Subscriber          Male         29.883333        2019              3   \n",
       "\n",
       "   start_hour  age  \n",
       "0          17   35  \n",
       "2          12   47  \n",
       "3          17   30  \n",
       "4          23   45  \n",
       "5          23   60  "
      ]
     },
     "execution_count": 341,
     "metadata": {},
     "output_type": "execute_result"
    }
   ],
   "source": [
    "df.head()"
   ]
  },
  {
   "cell_type": "markdown",
   "metadata": {},
   "source": [
    "### What is the structure of your dataset?\n",
    "\n",
    "> This dataset initially consisted of 183412 ride infromtation from the fordgobike database ,where each record has been recorded using 16 fields.After reviewing the dataset ,dropping some features that we dont care about and restructuring others.We are left with 174952 and 11 columns.\n",
    "\n",
    "### What is/are the main feature(s) of interest in your dataset?\n",
    "\n",
    "> I am most interested in the features (gender and age) of users and their relationship with duration as well as the user type and the time of the year.\n",
    "\n",
    "### What features in the dataset do you think will help support your investigation into your feature(s) of interest?\n",
    "\n",
    "> User Type,Age,Gender as well as duration are most important in any investigation we are making."
   ]
  },
  {
   "cell_type": "markdown",
   "metadata": {},
   "source": [
    "## Univariate Exploration\n",
    "\n",
    "> In this section, investigate distributions of individual variables. If\n",
    "you see unusual points or outliers, take a deeper look to clean things up\n",
    "and prepare yourself to look at relationships between variables."
   ]
  },
  {
   "cell_type": "markdown",
   "metadata": {},
   "source": [
    "### Duration Analysis"
   ]
  },
  {
   "cell_type": "code",
   "execution_count": 342,
   "metadata": {},
   "outputs": [
    {
     "data": {
      "image/png": "[encoded data removed]",
      "text/plain": [
       "<matplotlib.figure.Figure at 0x7f2bf9b1a390>"
      ]
     },
     "metadata": {
      "needs_background": "light"
     },
     "output_type": "display_data"
    }
   ],
   "source": [
    "# start with a standard-scaled plot\n",
    "binsize = 20\n",
    "bins = np.arange(0, df['duration_minutes'].max()+binsize, binsize)\n",
    "\n",
    "plt.figure(figsize=[8, 5])\n",
    "plt.hist(data = df, x = 'duration_minutes', bins = bins)\n",
    "plt.xlabel('duration_minutes (min)')\n",
    "plt.show()"
   ]
  },
  {
   "cell_type": "markdown",
   "metadata": {},
   "source": [
    "As it might be clear from the graph shown above, the duration is condensed in the region between 0 and around 100, but there is also some outliers which made the graph extended that much."
   ]
  },
  {
   "cell_type": "code",
   "execution_count": 343,
   "metadata": {},
   "outputs": [
    {
     "data": {
      "text/plain": [
       "1409.1333333333334"
      ]
     },
     "execution_count": 343,
     "metadata": {},
     "output_type": "execute_result"
    }
   ],
   "source": [
    "df['duration_minutes'].max()"
   ]
  },
  {
   "cell_type": "code",
   "execution_count": 344,
   "metadata": {},
   "outputs": [
    {
     "data": {
      "image/png": "[encoded data removed]",
      "text/plain": [
       "<matplotlib.figure.Figure at 0x7f2bf9d934a8>"
      ]
     },
     "metadata": {
      "needs_background": "light"
     },
     "output_type": "display_data"
    }
   ],
   "source": [
    "# We better change scale to view a better distribution of data\n",
    "# there's a long tail in the distribution, so let's put it on a log scale instead\n",
    "log_binsize = 0.05\n",
    "bins = 10 ** np.arange(0, np.log10(df['duration_minutes'].max())+log_binsize, log_binsize)\n",
    "\n",
    "plt.figure(figsize=[8, 5])\n",
    "plt.hist(data = df, x = 'duration_minutes', bins = bins)\n",
    "plt.xscale('log')\n",
    "plt.xticks([5,10,20,100,300,500, 1e3, 2e3], [5,10,20,100,300,500, '1k', '2k'])\n",
    "plt.xlabel('Duration (min)')\n",
    "plt.show()\n"
   ]
  },
  {
   "cell_type": "markdown",
   "metadata": {},
   "source": [
    "It looks like the mean of trip duration is around 10. Most trips are between 5 and 20 mins.There also exists some outliers in the larger range values."
   ]
  },
  {
   "cell_type": "code",
   "execution_count": 345,
   "metadata": {},
   "outputs": [
    {
     "data": {
      "text/plain": [
       "count    175147.000000\n",
       "mean         11.736864\n",
       "std          27.360139\n",
       "min           1.016667\n",
       "25%           5.383333\n",
       "50%           8.500000\n",
       "75%          13.150000\n",
       "max        1409.133333\n",
       "Name: duration_minutes, dtype: float64"
      ]
     },
     "execution_count": 345,
     "metadata": {},
     "output_type": "execute_result"
    }
   ],
   "source": [
    "df['duration_minutes'].describe()"
   ]
  },
  {
   "cell_type": "markdown",
   "metadata": {},
   "source": [
    "#### Gender Analysis"
   ]
  },
  {
   "cell_type": "code",
   "execution_count": 346,
   "metadata": {},
   "outputs": [
    {
     "data": {
      "text/plain": [
       "Male      130651\n",
       "Female     40844\n",
       "Other       3652\n",
       "Name: member_gender, dtype: int64"
      ]
     },
     "execution_count": 346,
     "metadata": {},
     "output_type": "execute_result"
    }
   ],
   "source": [
    "df['member_gender'].value_counts()"
   ]
  },
  {
   "cell_type": "code",
   "execution_count": 367,
   "metadata": {},
   "outputs": [
    {
     "data": {
      "text/plain": [
       "Text(0,0.5,'Percentage')"
      ]
     },
     "execution_count": 367,
     "metadata": {},
     "output_type": "execute_result"
    },
    {
     "data": {
      "image/png": "[encoded data removed]",
      "text/plain": [
       "<matplotlib.figure.Figure at 0x7f2bf7b38898>"
      ]
     },
     "metadata": {},
     "output_type": "display_data"
    }
   ],
   "source": [
    "df.groupby('member_gender').size().plot(kind='pie', autopct='%1.2f%%');\n",
    "plt.title('Distribution of User gender')\n",
    "plt.xlabel('Gender')\n",
    "plt.ylabel('Percentage')\n"
   ]
  },
  {
   "cell_type": "markdown",
   "metadata": {},
   "source": [
    "> from the distribution showed above, we can see that the datasets is biased as it contains more males than females ,so this should be kept in mind while facts finding"
   ]
  },
  {
   "cell_type": "markdown",
   "metadata": {},
   "source": [
    "### Age Distrubution"
   ]
  },
  {
   "cell_type": "code",
   "execution_count": 368,
   "metadata": {},
   "outputs": [
    {
     "data": {
      "text/plain": [
       "count    175147.000000\n",
       "mean         34.193563\n",
       "std          10.116689\n",
       "min          18.000000\n",
       "25%          27.000000\n",
       "50%          32.000000\n",
       "75%          39.000000\n",
       "max         141.000000\n",
       "Name: age, dtype: float64"
      ]
     },
     "execution_count": 368,
     "metadata": {},
     "output_type": "execute_result"
    }
   ],
   "source": [
    "df.age.describe()"
   ]
  },
  {
   "cell_type": "markdown",
   "metadata": {},
   "source": [
    "> Max: 144 seems to be an outlier and is kind of illogical."
   ]
  },
  {
   "cell_type": "code",
   "execution_count": 349,
   "metadata": {},
   "outputs": [
    {
     "data": {
      "image/png": "[encoded data removed]",
      "text/plain": [
       "<matplotlib.figure.Figure at 0x7f2bffa089b0>"
      ]
     },
     "metadata": {
      "needs_background": "light"
     },
     "output_type": "display_data"
    }
   ],
   "source": [
    "plt.figure(figsize = [8, 5])\n",
    "\n",
    "binsize = 10\n",
    "bins = np.arange(0, df['age'].max()+binsize, binsize)\n",
    "\n",
    "plt.hist(data = df, x = 'age', bins = bins)\n",
    "plt.xlim(18, 100)\n",
    "plt.xlabel('Age')\n",
    "plt.title('Distribution of User Age')\n",
    "plt.show()"
   ]
  },
  {
   "cell_type": "markdown",
   "metadata": {},
   "source": [
    "> This datasets ccontains ages from around 18 to 144, but seems to be concenrated around 20 and 40 , with a number between 40 and 70 that is small but can not be neglected.This makes the data skewed more to the right (Youth Group)"
   ]
  },
  {
   "cell_type": "code",
   "execution_count": 350,
   "metadata": {},
   "outputs": [
    {
     "data": {
      "text/plain": [
       "Text(0.5,0,'Distrubtion of Age')"
      ]
     },
     "execution_count": 350,
     "metadata": {},
     "output_type": "execute_result"
    },
    {
     "data": {
      "image/png": "[encoded data removed]",
      "text/plain": [
       "<matplotlib.figure.Figure at 0x7f2bf9ab5128>"
      ]
     },
     "metadata": {
      "needs_background": "light"
     },
     "output_type": "display_data"
    }
   ],
   "source": [
    "sb.boxplot(data = df, x = 'age')\n",
    "plt.xlabel('Distrubtion of Age')"
   ]
  },
  {
   "cell_type": "markdown",
   "metadata": {},
   "source": [
    "> This proves the prescence of outliers in the age groups of the trips."
   ]
  },
  {
   "cell_type": "markdown",
   "metadata": {},
   "source": [
    "### User Type Distribution"
   ]
  },
  {
   "cell_type": "code",
   "execution_count": 351,
   "metadata": {},
   "outputs": [
    {
     "data": {
      "text/plain": [
       "Text(0,0.5,'')"
      ]
     },
     "execution_count": 351,
     "metadata": {},
     "output_type": "execute_result"
    },
    {
     "data": {
      "image/png": "[encoded data removed]",
      "text/plain": [
       "<matplotlib.figure.Figure at 0x7f2bf9c8e9e8>"
      ]
     },
     "metadata": {},
     "output_type": "display_data"
    }
   ],
   "source": [
    "df.groupby('user_type').size().plot(kind='pie', autopct='%1.01f%%');\n",
    "plt.title('Distribution of User Type')\n",
    "plt.xlabel('Type')\n",
    "plt.ylabel('')"
   ]
  },
  {
   "cell_type": "code",
   "execution_count": 352,
   "metadata": {},
   "outputs": [
    {
     "data": {
      "text/plain": [
       "3    33733\n",
       "1    30616\n",
       "2    28456\n",
       "4    27682\n",
       "0    25686\n",
       "6    14532\n",
       "5    14442\n",
       "Name: start_weekday, dtype: int64"
      ]
     },
     "execution_count": 352,
     "metadata": {},
     "output_type": "execute_result"
    }
   ],
   "source": [
    "df['start_weekday'].value_counts()"
   ]
  },
  {
   "cell_type": "code",
   "execution_count": 353,
   "metadata": {},
   "outputs": [
    {
     "data": {
      "image/png": "[encoded data removed]",
      "text/plain": [
       "<matplotlib.figure.Figure at 0x7f2c0d09f160>"
      ]
     },
     "metadata": {
      "needs_background": "light"
     },
     "output_type": "display_data"
    }
   ],
   "source": [
    "days = ['Mon', 'Tue', 'Wed', 'Thu', 'Fri', 'Sat', 'Sun']\n",
    "bin_edges = np.arange(0, 7.5 + 1, 1)\n",
    "plt.hist(data = df, x = 'start_weekday', bins = bin_edges, rwidth = 0.9)\n",
    "plt.xticks(np.arange(0.5, 7 + 1, 1),days)\n",
    "plt.xlabel('month')\n",
    "plt.title('Distribution of trips over months of the year')\n",
    "plt.xlabel('Day')\n",
    "plt.ylabel('Number of users')\n",
    "plt.show()\n",
    "\n"
   ]
  },
  {
   "cell_type": "markdown",
   "metadata": {},
   "source": [
    "### Discuss the distribution(s) of your variable(s) of interest. Were there any unusual points? Did you need to perform any transformations?\n",
    "\n",
    "> Trips are distributed over the weekdays,showing relatively less trips in staurdays and sundays.Most of the users are subscribers not members and the data gender is also skewed showing a much larger men ratio.Another skew has been shown in both the duration of the trips  and the age of the users (skewed towards the youth group).\n",
    "\n",
    ">> Yes, The distribution of the trip duration has showed a very large set of values and due to the fact that there were outliers, transforming it to log scale has shown a clearer view of the distribution.The mean has been seen to be around 10 from the plot and then has been proved on describing the data.\n",
    "\n",
    "### Of the features you investigated, were there any unusual distributions? Did you perform any operations on the data to tidy, adjust, or change the form of the data? If so, why did you do this?\n",
    "\n",
    "> In addition to changing of data type to more suitable ones in some cases. I have changed the start time to divide it into smaller groups of dates since I wanted to check the distribution over  the weekdays.In addition, I have changed the birth year to get the age of the user at the time of the trip ( Feb 2019) as this is a feature of interest to me."
   ]
  },
  {
   "cell_type": "markdown",
   "metadata": {},
   "source": [
    "## Bivariate Exploration\n",
    "\n",
    "> In this section, investigate relationships between pairs of variables in your\n",
    "data. Make sure the variables that you cover here have been introduced in some\n",
    "fashion in the previous section (univariate exploration)."
   ]
  },
  {
   "cell_type": "markdown",
   "metadata": {},
   "source": [
    "### Age and Duration\n"
   ]
  },
  {
   "cell_type": "code",
   "execution_count": 354,
   "metadata": {},
   "outputs": [
    {
     "data": {
      "image/png": "[encoded data removed]",
      "text/plain": [
       "<matplotlib.figure.Figure at 0x7f2bfdb8c2b0>"
      ]
     },
     "metadata": {
      "needs_background": "light"
     },
     "output_type": "display_data"
    }
   ],
   "source": [
    "plt.figure(figsize = [8, 6])\n",
    "sb.regplot(data = df, x = 'age', y = 'duration_minutes',fit_reg=True,x_jitter=0.3,scatter_kws={'alpha':0.3})\n",
    "plt.xlabel('Age')\n",
    "plt.xlim(18, 70)\n",
    "plt.ylabel('Trip Duration in mins')\n",
    "plt.title('Relationship between user age and duration ')\n",
    "plt.show()"
   ]
  },
  {
   "cell_type": "markdown",
   "metadata": {},
   "source": [
    "> The above plot shows that there is weak relationship / correlation between the age and the trip duration. It can be also clearly seen that around the age of 30. theres is higher number of users doing long trips in comparison to larger age groups like the older age groups."
   ]
  },
  {
   "cell_type": "code",
   "execution_count": 355,
   "metadata": {},
   "outputs": [
    {
     "data": {
      "text/plain": [
       "0.0060267426565002872"
      ]
     },
     "execution_count": 355,
     "metadata": {},
     "output_type": "execute_result"
    }
   ],
   "source": [
    "# proof of theory\n",
    "correlation = df['age']. corr(df['duration_minutes'])\n",
    "correlation"
   ]
  },
  {
   "cell_type": "markdown",
   "metadata": {},
   "source": [
    "### Relationship between duartion and gender\n"
   ]
  },
  {
   "cell_type": "code",
   "execution_count": 356,
   "metadata": {},
   "outputs": [
    {
     "data": {
      "image/png": "[encoded data removed]",
      "text/plain": [
       "<matplotlib.figure.Figure at 0x7f2bffa6b4a8>"
      ]
     },
     "metadata": {
      "needs_background": "light"
     },
     "output_type": "display_data"
    }
   ],
   "source": [
    "sb.boxplot(data = df,x='member_gender', y='duration_minutes')\n",
    "plt.title('Relationship between time and gender')\n",
    "plt.xlabel('Gender')\n",
    "plt.ylabel('Duration in mins')\n",
    "plt.show()"
   ]
  },
  {
   "cell_type": "markdown",
   "metadata": {},
   "source": [
    ">This plot shows that all quartiles are in compressed in the smaller durations and that data includes a lot of points that are counted as outliers.As a result , I am most concerned with smaller ranges.\n"
   ]
  },
  {
   "cell_type": "code",
   "execution_count": 357,
   "metadata": {},
   "outputs": [
    {
     "data": {
      "image/png": "[encoded data removed]",
      "text/plain": [
       "<matplotlib.figure.Figure at 0x7f2bfdadd668>"
      ]
     },
     "metadata": {
      "needs_background": "light"
     },
     "output_type": "display_data"
    }
   ],
   "source": [
    "sb.boxplot(data = df,x='member_gender', y='duration_minutes')\n",
    "plt.title('Relationship between time and gender')\n",
    "plt.xlabel('Gender')\n",
    "plt.ylim(0,200)\n",
    "plt.ylabel('Duration in mins')\n",
    "plt.show()"
   ]
  },
  {
   "cell_type": "markdown",
   "metadata": {},
   "source": [
    "> This shows that both females show relatively equal performance in trip duration. I will now check who shows more extreme numbers that others."
   ]
  },
  {
   "cell_type": "markdown",
   "metadata": {},
   "source": [
    "### Relationship between duartion and user type\n"
   ]
  },
  {
   "cell_type": "code",
   "execution_count": 369,
   "metadata": {},
   "outputs": [
    {
     "data": {
      "text/plain": [
       "Text(0,0.5,'Number of trips')"
      ]
     },
     "execution_count": 369,
     "metadata": {},
     "output_type": "execute_result"
    },
    {
     "data": {
      "image/png": "[encoded data removed]",
      "text/plain": [
       "<matplotlib.figure.Figure at 0x7f2bfdc16828>"
      ]
     },
     "metadata": {
      "needs_background": "light"
     },
     "output_type": "display_data"
    }
   ],
   "source": [
    "\n",
    "longDurations =df.query('duration_minutes > 400')\n",
    "sb.countplot(data = longDurations, x = 'member_gender');\n",
    "plt.title('Gender perf in trips that are longer than 400 mins')\n",
    "plt.xlabel('Gender')\n",
    "plt.ylabel('Number of trips')"
   ]
  },
  {
   "cell_type": "code",
   "execution_count": 370,
   "metadata": {},
   "outputs": [
    {
     "data": {
      "image/png": "[encoded data removed]",
      "text/plain": [
       "<matplotlib.figure.Figure at 0x7f2bf7a7afd0>"
      ]
     },
     "metadata": {
      "needs_background": "light"
     },
     "output_type": "display_data"
    }
   ],
   "source": [
    "sb.boxplot(data = longDurations,x='member_gender', y='duration_minutes')\n",
    "plt.title('Relationship between time and gender')\n",
    "plt.xlabel('Gender')\n",
    "plt.ylabel('Duration in mins')\n",
    "plt.show()"
   ]
  },
  {
   "cell_type": "markdown",
   "metadata": {},
   "source": [
    "> This plot may show that the men do more long trips.knowing thatt this dataset is already biased to men , this might also not be true.To solve this we can bootstrap/sample an equal number of men and women and then check their performance.\n",
    "> Surprisingly, the bos plot shows that the duration of the female trips are longer even though menn do more long trips.\n"
   ]
  },
  {
   "cell_type": "code",
   "execution_count": 371,
   "metadata": {},
   "outputs": [
    {
     "name": "stdout",
     "output_type": "stream",
     "text": [
      " Durations: Male , Female 12.9845064963 11.2106511495\n",
      "long Durations: Male , Female 767.013178295 806.702840909\n"
     ]
    }
   ],
   "source": [
    "#proof of theory\n",
    "print(' Durations: Male , Female',df[df['member_gender']=='Female'].duration_minutes.mean(),df[df['member_gender']=='Male'].duration_minutes.mean())\n",
    "print('long Durations: Male , Female',longDurations[longDurations['member_gender']=='Female'].duration_minutes.mean(),longDurations[longDurations['member_gender']=='Male'].duration_minutes.mean())\n"
   ]
  },
  {
   "cell_type": "code",
   "execution_count": 372,
   "metadata": {},
   "outputs": [
    {
     "data": {
      "image/png": "[encoded data removed]",
      "text/plain": [
       "<matplotlib.figure.Figure at 0x7f2bf7b15320>"
      ]
     },
     "metadata": {
      "needs_background": "light"
     },
     "output_type": "display_data"
    }
   ],
   "source": [
    "\n",
    "## I will keep the ylimit since I know that this will help me view the data better\n",
    "sb.boxplot(data=df, x='user_type', y='duration_minutes', color=base_color)\n",
    "plt.xlabel('Type')\n",
    "plt.ylim(0,200) \n",
    "plt.ylabel('Duration (min)')\n",
    "plt.title(' Relationship between duartion and type');\n"
   ]
  },
  {
   "cell_type": "code",
   "execution_count": 374,
   "metadata": {},
   "outputs": [
    {
     "data": {
      "image/png": "[encoded data removed]",
      "text/plain": [
       "<matplotlib.figure.Figure at 0x7f2bfd6e3cc0>"
      ]
     },
     "metadata": {
      "needs_background": "light"
     },
     "output_type": "display_data"
    }
   ],
   "source": [
    "sb.violinplot(data=durations, x='user_type', y='duration_minutes', color=base_color, inner='quartile')\n",
    "plt.xlabel('Type')\n",
    "plt.ylabel('Duration in mins')\n",
    "plt.title('Relationship between type and Duration');\n",
    "plt.show();"
   ]
  },
  {
   "cell_type": "markdown",
   "metadata": {},
   "source": [
    "The above two plot show that subsscribers seem to take trips that are on average less than those of customers , this is shown since their avg ,max and means that less than the same values of the custoemr group."
   ]
  },
  {
   "cell_type": "code",
   "execution_count": 375,
   "metadata": {},
   "outputs": [
    {
     "name": "stdout",
     "output_type": "stream",
     "text": [
      "21.8335588159\n",
      "10.6775506363\n"
     ]
    }
   ],
   "source": [
    "#proof of theory\n",
    "print(df[df['user_type']=='Customer'].duration_minutes.mean())\n",
    "print(df[df['user_type']=='Subscriber'].duration_minutes.mean())"
   ]
  },
  {
   "cell_type": "markdown",
   "metadata": {},
   "source": [
    "### Relationship between duartion and day of the trip"
   ]
  },
  {
   "cell_type": "code",
   "execution_count": 376,
   "metadata": {},
   "outputs": [
    {
     "data": {
      "image/png": "[encoded data removed]",
      "text/plain": [
       "<matplotlib.figure.Figure at 0x7f2bfd9dca58>"
      ]
     },
     "metadata": {
      "needs_background": "light"
     },
     "output_type": "display_data"
    }
   ],
   "source": [
    "plt.bar(days,df.groupby('start_weekday').duration_minutes.mean());\n",
    "plt.xlabel('Weekday')\n",
    "plt.ylabel('Avg Duration in mins')\n",
    "plt.title('Relationship between day and Duration');\n"
   ]
  },
  {
   "cell_type": "markdown",
   "metadata": {},
   "source": [
    "Saturdays and sundays show higher mean value of trip durations than other days.All other days shows relatively equal trip durations."
   ]
  },
  {
   "cell_type": "markdown",
   "metadata": {},
   "source": [
    "### Talk about some of the relationships you observed in this part of the investigation. How did the feature(s) of interest vary with other features in the dataset?\n",
    "\n",
    "> Duration of the trip is relatively less for larger age groups.Subscribers has shown smaller duration values than customers. In additon, males have , so far , showed more counts in large frequencies,this may and may not be true based on the bias of the dataset.\n",
    "> It was also seen that saturdays and sundays showed higher trip durations than other weekdays.\n",
    "\n",
    "### Did you observe any interesting relationships between the other features (not the main feature(s) of interest)?\n",
    "\n",
    "> It was kind of surprising that even though the number of mean doing long trips was higher , the average of a long trip of female has been higher than that of males.\n"
   ]
  },
  {
   "cell_type": "markdown",
   "metadata": {},
   "source": [
    "## Multivariate Exploration\n",
    "\n",
    "> Create plots of three or more variables to investigate your data even\n",
    "further. Make sure that your investigations are justified, and follow from\n",
    "your work in the previous sections."
   ]
  },
  {
   "cell_type": "code",
   "execution_count": 377,
   "metadata": {},
   "outputs": [
    {
     "data": {
      "image/png": "[encoded data removed]",
      "text/plain": [
       "<matplotlib.figure.Figure at 0x7f2bfd592748>"
      ]
     },
     "metadata": {
      "needs_background": "light"
     },
     "output_type": "display_data"
    }
   ],
   "source": [
    "plot = sb.FacetGrid(data = df, col = 'member_gender',xlim = [18, 80], ylim = [0, 1700])\n",
    "plot.map(plt.scatter, 'age', 'duration_minutes', alpha=0.3)\n",
    "plot.set_xlabels('Age in years')\n",
    "plot.set_ylabels('Duration in mintes')\n",
    "plt.show()"
   ]
  },
  {
   "cell_type": "markdown",
   "metadata": {},
   "source": [
    "> This shows that for all gender groups, age has shown the same conslusion that is most rides are done by people who are around 20 to 40 years old. \n",
    ">The plots also show that men do more long rides than women.Keep in mind that regarding the lond rides, men seem to have less mean trip durations than women. "
   ]
  },
  {
   "cell_type": "code",
   "execution_count": 378,
   "metadata": {},
   "outputs": [
    {
     "data": {
      "image/png": "[encoded data removed]",
      "text/plain": [
       "<matplotlib.figure.Figure at 0x7f2bfd837048>"
      ]
     },
     "metadata": {
      "needs_background": "light"
     },
     "output_type": "display_data"
    }
   ],
   "source": [
    "plot1 = sb.FacetGrid(data = df, col = 'user_type',xlim = [18, 80], ylim = [0, 1700])\n",
    "plot1.map(plt.scatter, 'age', 'duration_minutes', alpha=0.3)\n",
    "plot1.set_xlabels('Age in years')\n",
    "plot1.set_ylabels('Duration in mintes')\n",
    "plt.show()"
   ]
  },
  {
   "cell_type": "markdown",
   "metadata": {},
   "source": [
    "The above plots shows the same age conslusion like that of the prev one.To add, subscribers show more users in larger age groups than that of customer as well as more point plots for longer duration trips. "
   ]
  },
  {
   "cell_type": "markdown",
   "metadata": {},
   "source": [
    "### Talk about some of the relationships you observed in this part of the investigation. Were there features that strengthened each other in terms of looking at your feature(s) of interest?\n",
    "\n",
    "> It has been proven that although men have done more high duration trips, females have done larger durations for the all age groups that are less than sixty.In addition the latest plot has shown that the reason why the avg of susbribers duration length is smaller in subscribers might be that there are more subscribers in the large age group , who is already proven to do trips smaller in durations.\n",
    "\n",
    "### Were there any interesting or surprising interactions between features?\n",
    "\n",
    "> The most surprising feature has been the distribution of genders that may make anyone claim that men can have higher strengths in trips regarding duration, women has actually shown better strength in that."
   ]
  },
  {
   "cell_type": "markdown",
   "metadata": {},
   "source": [
    "> At the end of your report, make sure that you export the notebook as an\n",
    "html file from the `File > Download as... > HTML` menu. Make sure you keep\n",
    "track of where the exported file goes, so you can put it in the same folder\n",
    "as this notebook for project submission. Also, make sure you remove all of\n",
    "the quote-formatted guide notes like this one before you finish your report!"
   ]
  },
  {
   "cell_type": "code",
   "execution_count": null,
   "metadata": {},
   "outputs": [],
   "source": []
  }
 ],
 "metadata": {
  "kernelspec": {
   "display_name": "Python 3",
   "language": "python",
   "name": "python3"
  },
  "language_info": {
   "codemirror_mode": {
    "name": "ipython",
    "version": 3
   },
   "file_extension": ".py",
   "mimetype": "text/x-python",
   "name": "python",
   "nbconvert_exporter": "python",
   "pygments_lexer": "ipython3",
   "version": "3.6.3"
  }
 },
 "nbformat": 4,
 "nbformat_minor": 2
}
